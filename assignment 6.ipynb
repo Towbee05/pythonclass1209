{
 "cells": [
  {
   "cell_type": "code",
   "execution_count": 19,
   "metadata": {},
   "outputs": [
    {
     "name": "stdout",
     "output_type": "stream",
     "text": [
      "12 + 16\n",
      "12 + 16 = 28\n",
      "The number of seconds used to answer is 0:00:05.418667\n",
      "Correct!!!\n",
      "2 + 17\n",
      "2 + 17 = 19\n",
      "The number of seconds used to answer is 0:00:03.320669\n",
      "Correct!!!\n",
      "2 + 6\n",
      "2 + 6 = 8\n",
      "The number of seconds used to answer is 0:00:08.638198\n",
      "Correct!!!\n",
      "7 + 9\n",
      "7 + 9 = 11\n",
      "The number of seconds used to answer is 0:00:05.090247\n",
      "INCORRECT!!!\n",
      "6 + 0\n",
      "6 + 0 = 6\n",
      "The number of seconds used to answer is 0:00:02.189490\n",
      "Correct!!!\n",
      "15 + 6\n",
      "15 + 6 = 21\n",
      "The number of seconds used to answer is 0:00:03.159661\n",
      "Correct!!!\n",
      "12 + 16\n",
      "12 + 16 = 28\n",
      "The number of seconds used to answer is 0:00:02.485311\n",
      "Correct!!!\n",
      "20 + 14\n",
      "20 + 14 = 34\n",
      "The number of seconds used to answer is 0:00:02.269024\n",
      "Correct!!!\n",
      "1 + 18\n",
      "1 + 18 = 34\n",
      "The number of seconds used to answer is 0:00:03.406186\n",
      "INCORRECT!!!\n",
      "17 + 11\n",
      "17 + 11 = 28\n",
      "The number of seconds used to answer is 0:00:03.916610\n",
      "Correct!!!\n",
      "10 + 4\n",
      "10 + 4 = 14\n",
      "The number of seconds used to answer is 0:00:02.541662\n",
      "Correct!!!\n"
     ]
    }
   ],
   "source": [
    "def integer():\n",
    "    import random \n",
    "    import datetime\n",
    "    inputLimit = 10\n",
    "    counter = 0\n",
    "    while counter <= inputLimit:\n",
    "        currentdate_1 = datetime.datetime.now()\n",
    "        currentdate_1.strftime('%H:%M:%S')\n",
    "        currentdate_1\n",
    "        num_1 = random.randint(0,20)\n",
    "        num_2 = random.randint(0,20)\n",
    "        print(f'{num_1} + {num_2}')\n",
    "        answer = int(input(\"Pls input the answer\"))\n",
    "        print(f'{num_1} + {num_2} = {answer}')\n",
    "        currentdate_2 = datetime.datetime.now()\n",
    "        currentdate_2\n",
    "        print(f'The number of seconds used to answer is {currentdate_2-currentdate_1}')\n",
    "        if num_1 + num_2 == answer:\n",
    "            print(\"Correct!!!\")\n",
    "        else:\n",
    "            print(\"INCORRECT!!!\")\n",
    "        \n",
    "\n",
    "        counter += 1\n",
    "        \n",
    "integer()\n",
    "\n",
    "\n"
   ]
  },
  {
   "cell_type": "code",
   "execution_count": null,
   "metadata": {},
   "outputs": [],
   "source": [
    "3\n",
    "20\n",
    "\n"
   ]
  },
  {
   "cell_type": "code",
   "execution_count": null,
   "metadata": {},
   "outputs": [],
   "source": [
    "import random\n",
    "import datetime\n",
    "score = 0\n",
    "timetaken = 0\n",
    "counter = 1\n",
    "while counter <= 10:\n",
    "    num = \n"
   ]
  },
  {
   "cell_type": "code",
   "execution_count": null,
   "metadata": {},
   "outputs": [],
   "source": []
  }
 ],
 "metadata": {
  "kernelspec": {
   "display_name": "Python 3.8.5 ('base')",
   "language": "python",
   "name": "python3"
  },
  "language_info": {
   "codemirror_mode": {
    "name": "ipython",
    "version": 3
   },
   "file_extension": ".py",
   "mimetype": "text/x-python",
   "name": "python",
   "nbconvert_exporter": "python",
   "pygments_lexer": "ipython3",
   "version": "3.8.5"
  },
  "orig_nbformat": 4,
  "vscode": {
   "interpreter": {
    "hash": "263930470851f494f0ed2879c35b57985588df20f9e529b86e97dd5eb9ddc466"
   }
  }
 },
 "nbformat": 4,
 "nbformat_minor": 2
}
