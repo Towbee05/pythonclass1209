{
 "cells": [
  {
   "cell_type": "code",
   "execution_count": 1,
   "metadata": {},
   "outputs": [],
   "source": [
    "# functions\n",
    "\n"
   ]
  },
  {
   "cell_type": "code",
   "execution_count": 2,
   "metadata": {},
   "outputs": [
    {
     "name": "stdout",
     "output_type": "stream",
     "text": [
      "Welcome to python class\n"
     ]
    }
   ],
   "source": [
    "def greet():\n",
    "    print('Welcome to python class')\n",
    "greet()"
   ]
  },
  {
   "cell_type": "code",
   "execution_count": 3,
   "metadata": {},
   "outputs": [
    {
     "name": "stdout",
     "output_type": "stream",
     "text": [
      "Welcome to python class Tobi\n"
     ]
    }
   ],
   "source": [
    "# function with single parameter\n",
    "def greet2(name):\n",
    "    print(f'Welcome to python class {name}')\n",
    "greet2('Tobi')\n"
   ]
  },
  {
   "cell_type": "code",
   "execution_count": 5,
   "metadata": {},
   "outputs": [
    {
     "name": "stdout",
     "output_type": "stream",
     "text": [
      "Welcome to python class Plumb\n"
     ]
    }
   ],
   "source": [
    "greet2(\"Plumb\")"
   ]
  },
  {
   "cell_type": "code",
   "execution_count": 2,
   "metadata": {},
   "outputs": [
    {
     "name": "stdout",
     "output_type": "stream",
     "text": [
      "\n",
      "    NAME:Simeon \n",
      "    GENDER:Male \n",
      "    AGE:40\n",
      "    \n",
      "Congratulations, You are eligible to vote\n"
     ]
    }
   ],
   "source": [
    "# function with multiple parameter\n",
    "def vote_check(name,gender,age):\n",
    "    print(f'''\n",
    "    NAME:{name} \n",
    "    GENDER:{gender} \n",
    "    AGE:{age}\n",
    "    ''')\n",
    "    if age >= 18:\n",
    "        print('Congratulations, You are eligible to vote')\n",
    "    else:\n",
    "        print('Sorry, you are not eligible to vote')\n",
    "vote_check('Simeon','Male',40 )\n",
    "\n"
   ]
  },
  {
   "cell_type": "code",
   "execution_count": 9,
   "metadata": {},
   "outputs": [
    {
     "name": "stdout",
     "output_type": "stream",
     "text": [
      "NAME:Jane \n",
      "    GENDER:Female \n",
      "    AGE:17.5\n",
      "    \n",
      "Sorry, you are not eligible to vote\n"
     ]
    }
   ],
   "source": [
    "vote_check('Jane', 'Female', 17.5)"
   ]
  },
  {
   "cell_type": "code",
   "execution_count": 11,
   "metadata": {},
   "outputs": [
    {
     "name": "stdout",
     "output_type": "stream",
     "text": [
      "NAME:Simeon \n",
      "    GENDER:Male \n",
      "    AGE:18\n",
      "    \n",
      "Congratulations, You are eligible to vote\n"
     ]
    }
   ],
   "source": [
    "# function with default parameter\n",
    "def vote_check(name,gender,age= 18):\n",
    "    print(f'''NAME:{name} \n",
    "    GENDER:{gender} \n",
    "    AGE:{age}\n",
    "    ''')\n",
    "    if age >= 18:\n",
    "        print('Congratulations, You are eligible to vote')\n",
    "    else:\n",
    "        print('Sorry, you are not eligible to vote')\n",
    "vote_check('Simeon','Male')"
   ]
  },
  {
   "cell_type": "code",
   "execution_count": 1,
   "metadata": {},
   "outputs": [
    {
     "name": "stdout",
     "output_type": "stream",
     "text": [
      "NAME:Simeon \n",
      "    GENDER:Male \n",
      "    AGE:225\n",
      "    \n",
      "Congratulations, You are eligible to vote\n"
     ]
    }
   ],
   "source": [
    "def vote_check(name,gender,age = 18):\n",
    "    print(f'''NAME:{name} \n",
    "    GENDER:{gender} \n",
    "    AGE:{age}\n",
    "    ''')\n",
    "    if age >= 18:\n",
    "        print('Congratulations, You are eligible to vote')\n",
    "    else:\n",
    "        print('Sorry, you are not eligible to vote')\n",
    "vote_check('Simeon','Male',225 )"
   ]
  },
  {
   "cell_type": "code",
   "execution_count": 13,
   "metadata": {},
   "outputs": [
    {
     "name": "stdout",
     "output_type": "stream",
     "text": [
      "<class 'tuple'>\n"
     ]
    },
    {
     "data": {
      "text/plain": [
       "'The average score for the following values(34, 54, 66, 78, 3, 445, 63, 43, 56, 6, 76, 7, 8, 44, 5, 7, 6, 45) is 58.111111111111114'"
      ]
     },
     "execution_count": 13,
     "metadata": {},
     "output_type": "execute_result"
    }
   ],
   "source": [
    "# function with a non keyword argument\n",
    "def average(*num):\n",
    "    print(type(num))\n",
    "    avg = sum(num)/len(num)\n",
    "    return f'The average score for the following values{num} is {avg}'\n",
    "average(34,54,66,78,3,445,63,43,56,6,76,7,8,44,5,7,6,45)"
   ]
  },
  {
   "cell_type": "code",
   "execution_count": 14,
   "metadata": {},
   "outputs": [
    {
     "name": "stdout",
     "output_type": "stream",
     "text": [
      "<class 'tuple'>\n"
     ]
    },
    {
     "data": {
      "text/plain": [
       "'The average score for the following values(34, 54, 66, 78, 3, 445, 63, 43, 56, 6, 76, 7, 8, 44, 5, 7, 6, 45) is 58.11'"
      ]
     },
     "execution_count": 14,
     "metadata": {},
     "output_type": "execute_result"
    }
   ],
   "source": [
    "# function with a non keyword argument\n",
    "def average(*num):\n",
    "    print(type(num))\n",
    "    avg = sum(num)/len(num)\n",
    "    return f'The average score for the following values{num} is {round(avg,2)}'\n",
    "average(34,54,66,78,3,445,63,43,56,6,76,7,8,44,5,7,6,45)"
   ]
  },
  {
   "cell_type": "code",
   "execution_count": 15,
   "metadata": {},
   "outputs": [
    {
     "name": "stdout",
     "output_type": "stream",
     "text": [
      "<class 'tuple'>\n"
     ]
    },
    {
     "data": {
      "text/plain": [
       "'The average score for the following values(343, 34, 54, 6, 57, 8, 9, 8, 7, 65, 5, 56, 7, 8, 6, 454, 43, 65, 76, 87) is 69.9'"
      ]
     },
     "execution_count": 15,
     "metadata": {},
     "output_type": "execute_result"
    }
   ],
   "source": [
    "list_num = [343,34,54,6,57,8,9,8,7,65,5,56,7,8,6,454,43,65,76,87]\n",
    "average(*list_num)"
   ]
  },
  {
   "cell_type": "code",
   "execution_count": 17,
   "metadata": {},
   "outputs": [
    {
     "name": "stdout",
     "output_type": "stream",
     "text": [
      "<class 'dict'>\n",
      "Name :: Age\n",
      "Age :: 40\n",
      "Gender :: Male\n"
     ]
    }
   ],
   "source": [
    "def records(**details):\n",
    "    print(type(details))\n",
    "    for key,value in details.items():\n",
    "        print(f'{key} :: {value}')\n",
    "records(Name = \"Age\", Age = 40, Gender = \"Male\")"
   ]
  },
  {
   "cell_type": "code",
   "execution_count": 18,
   "metadata": {},
   "outputs": [
    {
     "name": "stdout",
     "output_type": "stream",
     "text": [
      "<class 'dict'>\n",
      "Name :: Tobi\n",
      "Age :: 17\n",
      "Gender :: Male\n"
     ]
    }
   ],
   "source": [
    "records(Name = \"Tobi\", Age = 17, Gender = \"Male\")"
   ]
  },
  {
   "cell_type": "code",
   "execution_count": 38,
   "metadata": {},
   "outputs": [
    {
     "name": "stdout",
     "output_type": "stream",
     "text": [
      "47\n"
     ]
    }
   ],
   "source": [
    "# write a function to generate a random number and ask the user to guess, also write a condition to tell the user if the \n",
    "# generated number is high or low\n",
    "import random\n",
    "def randomnumber():\n",
    "    randomnumber =random.randint(10,51)\n",
    "    print(randomnumber)\n",
    "    usernumber = int(input(\"Pls input a number\"))\n",
    "    if usernumber <= 0:\n",
    "        print(\"Too low\")\n",
    "    elif usernumber > 50:\n",
    "         print(\"Too high\")\n",
    "    elif usernumber == randomnumber:\n",
    "         print(\"You are correct\")\n",
    "randomnumber()\n",
    "# incorect"
   ]
  },
  {
   "cell_type": "code",
   "execution_count": 3,
   "metadata": {},
   "outputs": [
    {
     "name": "stdout",
     "output_type": "stream",
     "text": [
      "Guess is high\n",
      "Guess is low\n",
      "Congratulation you win\n"
     ]
    }
   ],
   "source": [
    "# correct\n",
    "def guessing_game():\n",
    "    import random \n",
    "    correct_guess = random.randint(1,20)\n",
    "    guess_count = 0\n",
    "    guess_limit = 3\n",
    "    while guess_count < guess_limit:\n",
    "        guess = int(input(\"Pls input an integer between 1 and 20\"))\n",
    "        guess_count += 1\n",
    "        if guess > correct_guess:\n",
    "            print(\"Guess is high\")\n",
    "        elif guess < correct_guess:\n",
    "            print(\"Guess is low\")\n",
    "        elif guess == correct_guess:\n",
    "            print('Congratulation you win')\n",
    "            break\n",
    "    else:\n",
    "        print('Sorry you failed')\n",
    "guessing_game()"
   ]
  },
  {
   "cell_type": "code",
   "execution_count": null,
   "metadata": {},
   "outputs": [],
   "source": []
  }
 ],
 "metadata": {
  "kernelspec": {
   "display_name": "Python 3.9.13 32-bit",
   "language": "python",
   "name": "python3"
  },
  "language_info": {
   "codemirror_mode": {
    "name": "ipython",
    "version": 3
   },
   "file_extension": ".py",
   "mimetype": "text/x-python",
   "name": "python",
   "nbconvert_exporter": "python",
   "pygments_lexer": "ipython3",
   "version": "3.9.13"
  },
  "orig_nbformat": 4,
  "vscode": {
   "interpreter": {
    "hash": "da3600aafbba33963195a4a73fabd79dc432f3ac3e0a81166894c5c7b51fafd9"
   }
  }
 },
 "nbformat": 4,
 "nbformat_minor": 2
}
