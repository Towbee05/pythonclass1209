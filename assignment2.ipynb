{
 "cells": [
  {
   "cell_type": "code",
   "execution_count": 1,
   "metadata": {},
   "outputs": [
    {
     "name": "stdout",
     "output_type": "stream",
     "text": [
      "<class 'tuple'>\n"
     ]
    }
   ],
   "source": [
    "numbersTuple = (46, 53, 45, 48, 55, 45, 49, 51, 51, 58, 50, 55, 53, 57, 50, 46, 55, 55, 47, 57, 55)\n",
    "print(type(numbersTuple))"
   ]
  },
  {
   "cell_type": "code",
   "execution_count": 6,
   "metadata": {},
   "outputs": [
    {
     "name": "stdout",
     "output_type": "stream",
     "text": [
      "58\n"
     ]
    }
   ],
   "source": [
    "print(numbersTuple[9])"
   ]
  },
  {
   "cell_type": "code",
   "execution_count": 8,
   "metadata": {},
   "outputs": [
    {
     "data": {
      "text/plain": [
       "5"
      ]
     },
     "execution_count": 8,
     "metadata": {},
     "output_type": "execute_result"
    }
   ],
   "source": [
    "numbersTuple.count(55)"
   ]
  },
  {
   "cell_type": "code",
   "execution_count": 12,
   "metadata": {},
   "outputs": [
    {
     "name": "stdout",
     "output_type": "stream",
     "text": [
      "(55, 57, 47, 55, 55, 46, 50, 57, 53, 55, 50, 58, 51, 51, 49, 45, 55, 48, 45, 53, 46)\n"
     ]
    }
   ],
   "source": [
    "print(numbersTuple[::-1])"
   ]
  },
  {
   "cell_type": "code",
   "execution_count": 15,
   "metadata": {},
   "outputs": [
    {
     "name": "stdout",
     "output_type": "stream",
     "text": [
      "(55, 47, 55, 50, 53, 50, 51, 49, 55, 45, 46)\n"
     ]
    }
   ],
   "source": [
    "print(numbersTuple[::-2])"
   ]
  },
  {
   "cell_type": "code",
   "execution_count": 10,
   "metadata": {},
   "outputs": [
    {
     "name": "stdout",
     "output_type": "stream",
     "text": [
      "49 57\n"
     ]
    }
   ],
   "source": [
    "print(numbersTuple[6], numbersTuple[-2])"
   ]
  },
  {
   "cell_type": "code",
   "execution_count": 6,
   "metadata": {},
   "outputs": [],
   "source": [
    "numberList = [46, 53, 45, 48, 55, 45, 49, 51, 51, 58, 50, 55, 53, 57, 50, 46, 55, 55, 47, 57, 55]\n"
   ]
  },
  {
   "cell_type": "code",
   "execution_count": 17,
   "metadata": {},
   "outputs": [
    {
     "name": "stdout",
     "output_type": "stream",
     "text": [
      "58\n"
     ]
    }
   ],
   "source": [
    "print(numberList[9])"
   ]
  },
  {
   "cell_type": "code",
   "execution_count": 18,
   "metadata": {},
   "outputs": [
    {
     "data": {
      "text/plain": [
       "2"
      ]
     },
     "execution_count": 18,
     "metadata": {},
     "output_type": "execute_result"
    }
   ],
   "source": [
    "numberList.count(51)"
   ]
  },
  {
   "cell_type": "code",
   "execution_count": 23,
   "metadata": {},
   "outputs": [
    {
     "name": "stdout",
     "output_type": "stream",
     "text": [
      "49 57\n"
     ]
    }
   ],
   "source": [
    "print(numberList[6], numberList[-2])"
   ]
  },
  {
   "cell_type": "code",
   "execution_count": 28,
   "metadata": {},
   "outputs": [
    {
     "name": "stdout",
     "output_type": "stream",
     "text": [
      "[46, 53, 45, 48, 55, 45, 69, 69, '69', '69', 49, 51, 51, 58, 50, 55, 53, 57, 50, 46, 55, 55, 47, 57, 55]\n"
     ]
    }
   ],
   "source": [
    "numberList.insert(6, 69)\n",
    "print(numberList)"
   ]
  },
  {
   "cell_type": "code",
   "execution_count": 7,
   "metadata": {},
   "outputs": [
    {
     "name": "stdout",
     "output_type": "stream",
     "text": [
      "[55, 57, 47, 55, 55, 46, 50, 57, 53, 55, 50, 58, 51, 51, 49, 45, 55, 48, 45, 53, 46]\n"
     ]
    }
   ],
   "source": [
    "numberList.reverse()\n",
    "print(numberList)"
   ]
  },
  {
   "cell_type": "code",
   "execution_count": 30,
   "metadata": {},
   "outputs": [
    {
     "name": "stdout",
     "output_type": "stream",
     "text": [
      "[46, 53, 45, 48, 55, 45, 69, 69, '69', '69', 49, 51, 51, 58, 50, 55, 53, 57, 50, 46, 55, 55, 47, 57, 55, 89, 85, 36, 95, 45, 78]\n"
     ]
    }
   ],
   "source": [
    "numberList2 = (89,85,36,95,45,78)\n",
    "numberList.extend(numberList2)\n",
    "print(numberList)"
   ]
  },
  {
   "cell_type": "code",
   "execution_count": 1,
   "metadata": {},
   "outputs": [],
   "source": [
    "footballClub = {\n",
    "    'Barcelona' : ['Spain', 'Xanvier Hernández', 'Sergio Busquet', '5 billion U.S Dollars' ],\n",
    "    'Dortmund' : ['Germany', 'Peter Hermann', 'Marco Reus', '260 millon U.S Dollars'],\n",
    "    'Arsenal' : ['England', 'Mikel Arteta', 'Martin Odegaard', '2.8 billion Dollars'],\n",
    "    'Totthenam' : ['England', 'Antionio Conte', 'Hugo Lloris', '2.3 billion Dollars'],\n",
    "    'Man City' : ['England', 'Pep Guardiola', 'Iikay Gundogan', '4 billion Dollars'],\n",
    "    'Inter Milan' : ['Italy', 'Simone Inzaghi', 'Samir Handanovic', '1.2 billion dollars' ],\n",
    "    'PSG' : ['France', 'Christophe Galtier', 'Marquinhos' '2.5 billion Dollars' ],\n",
    "    'Newcastle' : ['England', 'Eddie Howe', 'Jamaal Lascelles', '320 billion Pounds'],\n",
    "    'Chelsea' : ['England', 'Graham Potter', 'Cesar Azpilicueta' ,'3.2 billion Dollars'],\n",
    "    'Real Madrid' : ['Spain', 'Carlo Ancelotti' ,'Karim Benzema', '5.1 billion Dollars']\n",
    " }"
   ]
  },
  {
   "cell_type": "code",
   "execution_count": 6,
   "metadata": {},
   "outputs": [
    {
     "name": "stdout",
     "output_type": "stream",
     "text": [
      "['Spain', 'Xanvier Hernández', 'Sergio Busquet', '5 billion U.S Dollars']\n"
     ]
    }
   ],
   "source": [
    "print(footballClub['Barcelona'])"
   ]
  },
  {
   "cell_type": "code",
   "execution_count": null,
   "metadata": {},
   "outputs": [],
   "source": []
  }
 ],
 "metadata": {
  "kernelspec": {
   "display_name": "Python 3.9.13 32-bit",
   "language": "python",
   "name": "python3"
  },
  "language_info": {
   "codemirror_mode": {
    "name": "ipython",
    "version": 3
   },
   "file_extension": ".py",
   "mimetype": "text/x-python",
   "name": "python",
   "nbconvert_exporter": "python",
   "pygments_lexer": "ipython3",
   "version": "3.9.13"
  },
  "orig_nbformat": 4,
  "vscode": {
   "interpreter": {
    "hash": "da3600aafbba33963195a4a73fabd79dc432f3ac3e0a81166894c5c7b51fafd9"
   }
  }
 },
 "nbformat": 4,
 "nbformat_minor": 2
}
