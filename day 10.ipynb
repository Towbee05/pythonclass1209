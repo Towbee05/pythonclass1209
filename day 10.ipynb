{
 "cells": [
  {
   "cell_type": "code",
   "execution_count": null,
   "metadata": {},
   "outputs": [],
   "source": [
    "# datetime module\n"
   ]
  },
  {
   "cell_type": "code",
   "execution_count": 6,
   "metadata": {},
   "outputs": [],
   "source": [
    "import datetime"
   ]
  },
  {
   "cell_type": "code",
   "execution_count": 7,
   "metadata": {},
   "outputs": [
    {
     "name": "stdout",
     "output_type": "stream",
     "text": [
      "['MAXYEAR', 'MINYEAR', '__all__', '__builtins__', '__cached__', '__doc__', '__file__', '__loader__', '__name__', '__package__', '__spec__', 'date', 'datetime', 'datetime_CAPI', 'sys', 'time', 'timedelta', 'timezone', 'tzinfo']\n"
     ]
    }
   ],
   "source": [
    "print(dir(datetime))"
   ]
  },
  {
   "cell_type": "code",
   "execution_count": 8,
   "metadata": {},
   "outputs": [
    {
     "data": {
      "text/plain": [
       "datetime.date(2022, 5, 25)"
      ]
     },
     "execution_count": 8,
     "metadata": {},
     "output_type": "execute_result"
    }
   ],
   "source": [
    "mydate = datetime.date(2022,5,25)\n",
    "mydate"
   ]
  },
  {
   "cell_type": "code",
   "execution_count": 9,
   "metadata": {},
   "outputs": [
    {
     "name": "stdout",
     "output_type": "stream",
     "text": [
      "2022\n",
      "5\n",
      "25\n",
      "2\n",
      "3\n"
     ]
    }
   ],
   "source": [
    "print(mydate.year)\n",
    "print(mydate.month)\n",
    "print(mydate.day)\n",
    "print(mydate.weekday())\n",
    "print(mydate.isoweekday())"
   ]
  },
  {
   "cell_type": "code",
   "execution_count": null,
   "metadata": {},
   "outputs": [],
   "source": []
  },
  {
   "cell_type": "code",
   "execution_count": 10,
   "metadata": {},
   "outputs": [
    {
     "data": {
      "text/plain": [
       "datetime.date(2022, 10, 3)"
      ]
     },
     "execution_count": 10,
     "metadata": {},
     "output_type": "execute_result"
    }
   ],
   "source": [
    "currentdate = datetime.date.today()\n",
    "currentdate"
   ]
  },
  {
   "cell_type": "code",
   "execution_count": 11,
   "metadata": {},
   "outputs": [
    {
     "data": {
      "text/plain": [
       "'22'"
      ]
     },
     "execution_count": 11,
     "metadata": {},
     "output_type": "execute_result"
    }
   ],
   "source": [
    "# strftimme is used for the modification of date and time\n",
    "currentdate.strftime('%A')\n",
    "currentdate.strftime('%B')\n",
    "currentdate.strftime('%Y')\n",
    "currentdate.strftime('%d')\n",
    "currentdate.strftime('%m')\n",
    "currentdate.strftime('%y')\n"
   ]
  },
  {
   "cell_type": "code",
   "execution_count": 12,
   "metadata": {},
   "outputs": [
    {
     "data": {
      "text/plain": [
       "'03 of October 2022'"
      ]
     },
     "execution_count": 12,
     "metadata": {},
     "output_type": "execute_result"
    }
   ],
   "source": [
    "currentdate.strftime('%d of %B %Y')"
   ]
  },
  {
   "cell_type": "code",
   "execution_count": 13,
   "metadata": {},
   "outputs": [
    {
     "data": {
      "text/plain": [
       "datetime.time(12, 45, 58, 89978)"
      ]
     },
     "execution_count": 13,
     "metadata": {},
     "output_type": "execute_result"
    }
   ],
   "source": [
    "mytime = datetime.time(12,45,58,89978)\n",
    "mytime"
   ]
  },
  {
   "cell_type": "code",
   "execution_count": 14,
   "metadata": {},
   "outputs": [
    {
     "name": "stdout",
     "output_type": "stream",
     "text": [
      "12\n",
      "45\n",
      "58\n",
      "89978\n"
     ]
    }
   ],
   "source": [
    "print(mytime.hour)\n",
    "print(mytime.minute)\n",
    "print(mytime.second)\n",
    "print(mytime.microsecond)"
   ]
  },
  {
   "cell_type": "code",
   "execution_count": 15,
   "metadata": {},
   "outputs": [
    {
     "data": {
      "text/plain": [
       "datetime.time(10, 56, 28, 813532)"
      ]
     },
     "execution_count": 15,
     "metadata": {},
     "output_type": "execute_result"
    }
   ],
   "source": [
    "currenttime = datetime.datetime.now().time()\n",
    "currenttime"
   ]
  },
  {
   "cell_type": "code",
   "execution_count": 16,
   "metadata": {},
   "outputs": [
    {
     "data": {
      "text/plain": [
       "'10:56:28AM'"
      ]
     },
     "execution_count": 16,
     "metadata": {},
     "output_type": "execute_result"
    }
   ],
   "source": [
    "currenttime.strftime('%H:%M:%S%p')"
   ]
  },
  {
   "cell_type": "code",
   "execution_count": 17,
   "metadata": {},
   "outputs": [
    {
     "data": {
      "text/plain": [
       "datetime.datetime(2022, 10, 3, 10, 56, 29, 526320)"
      ]
     },
     "execution_count": 17,
     "metadata": {},
     "output_type": "execute_result"
    }
   ],
   "source": [
    "current_date_time = datetime.datetime.now()\n",
    "current_date_time"
   ]
  },
  {
   "cell_type": "code",
   "execution_count": 18,
   "metadata": {},
   "outputs": [
    {
     "name": "stdout",
     "output_type": "stream",
     "text": [
      "2005-12-25 00:00:00\n"
     ]
    }
   ],
   "source": [
    "# strptime is used to convert a date to string to datetimme format\n",
    "usersdate = input('Please provide a date(m/d/yyyy)')\n",
    "cdate = datetime.datetime.strptime(usersdate, '%m/%d/%Y')\n",
    "print(cdate)"
   ]
  },
  {
   "cell_type": "code",
   "execution_count": 19,
   "metadata": {},
   "outputs": [
    {
     "name": "stdout",
     "output_type": "stream",
     "text": [
      "2005-12-25\n"
     ]
    }
   ],
   "source": [
    "usersdate = input('Please provide a date(m/d/yyyy)')\n",
    "cdate = datetime.datetime.strptime(usersdate, '%m/%d/%Y').date()\n",
    "print(cdate)\n"
   ]
  },
  {
   "cell_type": "code",
   "execution_count": 20,
   "metadata": {},
   "outputs": [
    {
     "data": {
      "text/plain": [
       "datetime.timedelta(days=-6126)"
      ]
     },
     "execution_count": 20,
     "metadata": {},
     "output_type": "execute_result"
    }
   ],
   "source": [
    "cdate - currentdate"
   ]
  },
  {
   "cell_type": "code",
   "execution_count": 21,
   "metadata": {},
   "outputs": [
    {
     "data": {
      "text/plain": [
       "datetime.date(2024, 11, 11)"
      ]
     },
     "execution_count": 21,
     "metadata": {},
     "output_type": "execute_result"
    }
   ],
   "source": [
    "currentdate + datetime.timedelta(weeks = 110)"
   ]
  },
  {
   "cell_type": "code",
   "execution_count": 22,
   "metadata": {},
   "outputs": [],
   "source": [
    "# Write a program to calculate a user appiontment date from current date and tell the user how many weeks and days left to the appiontment"
   ]
  },
  {
   "cell_type": "code",
   "execution_count": 40,
   "metadata": {},
   "outputs": [
    {
     "name": "stdout",
     "output_type": "stream",
     "text": [
      "Dear user you have 11 weeks and 6 days until your appiontment\n"
     ]
    }
   ],
   "source": [
    "\n",
    "_yourdate = input('Pls enter your appiontment date in the format dd/mm/yyyy')\n",
    "_yourDate = datetime.datetime.strptime(_yourdate, '%d/%m/%Y').date()\n",
    "currentdate2 = datetime.date.today()\n",
    "total_numbers_of_days = _yourDate - currentdate2\n",
    "num_of_weeks = total_numbers_of_days.days//7\n",
    "num_of_days = total_numbers_of_days.days % 7\n",
    "print(f'Dear user you have {num_of_weeks} weeks and {num_of_days} days until your appiontment')"
   ]
  },
  {
   "cell_type": "code",
   "execution_count": 55,
   "metadata": {},
   "outputs": [],
   "source": [
    "# w(write),r(read),a(append), r+(read before append)\n",
    "file = open('demo.pdf','w')\n",
    "file.write('''\n",
    "_yourdate = input('Pls enter your appiontment date in the format dd/mm/yyyy')\n",
    "_yourDate = datetime.datetime.strptime(_yourdate, '%d/%m/%Y').date()\n",
    "currentdate2 = datetime.date.today()\n",
    "total_numbers_of_days = _yourDate - currentdate2\n",
    "num_of_weeks = total_numbers_of_days.days//7\n",
    "''')\n",
    "file.close()"
   ]
  },
  {
   "cell_type": "code",
   "execution_count": 54,
   "metadata": {},
   "outputs": [
    {
     "name": "stdout",
     "output_type": "stream",
     "text": [
      "{\n",
      " \"cells\": [\n",
      "  {\n",
      "   \"cell_type\": \"code\",\n",
      "   \"execution_count\": null,\n",
      "   \"metadata\": {},\n",
      "   \"outputs\": [],\n",
      "   \"source\": []\n",
      "  },\n",
      "  {\n",
      "   \"cell_type\": \"code\",\n",
      "   \"execution_count\": 1,\n",
      "   \"metadata\": {},\n",
      "   \"outputs\": [\n",
      "    {\n",
      "     \"name\": \"stdout\",\n",
      "     \"output_type\": \"stream\",\n",
      "     \"text\": [\n",
      "      \"['__doc__', '__loader__', '__name__', '__package__', '__spec__', 'acos', 'acosh', 'asin', 'asinh', 'atan', 'atan2', 'atanh', 'ceil', 'comb', 'copysign', 'cos', 'cosh', 'degrees', 'dist', 'e', 'erf', 'erfc', 'exp', 'expm1', 'fabs', 'factorial', 'floor', 'fmod', 'frexp', 'fsum', 'gamma', 'gcd', 'hypot', 'inf', 'isclose', 'isfinite', 'isinf', 'isnan', 'isqrt', 'lcm', 'ldexp', 'lgamma', 'log', 'log10', 'log1p', 'log2', 'modf', 'nan', 'nextafter', 'perm', 'pi', 'pow', 'prod', 'radians', 'remainder', 'sin', 'sinh', 'sqrt', 'tan', 'tanh', 'tau', 'trunc', 'ulp']\\n\"\n",
      "     ]\n",
      "    }\n",
      "   ],\n",
      "   \"source\": [\n",
      "    \"import math\\n\",\n",
      "    \"print(dir(math))\"\n",
      "   ]\n",
      "  },\n",
      "  {\n",
      "   \"cell_type\": \"code\",\n",
      "   \"execution_count\": 2,\n",
      "   \"metadata\": {},\n",
      "   \"outputs\": [\n",
      "    {\n",
      "     \"name\": \"stdout\",\n",
      "     \"output_type\": \"stream\",\n",
      "     \"text\": [\n",
      "      \"15\\n\",\n",
      "      \"14\\n\",\n",
      "      \"2.6741486494265287\\n\",\n",
      "      \"3.8078865529319543\\n\"\n",
      "     ]\n",
      "    }\n",
      "   ],\n",
      "   \"source\": [\n",
      "    \"num = 14.5\\n\",\n",
      "    \"print(math.ceil(num))\\n\",\n",
      "    \"print(math.floor(num))\\n\",\n",
      "    \"print(math.log(num))\\n\",\n",
      "    \"print(math.sqrt(num))\"\n",
      "   ]\n",
      "  },\n",
      "  {\n",
      "   \"cell_type\": \"code\",\n",
      "   \"execution_count\": 3,\n",
      "   \"metadata\": {},\n",
      "   \"outputs\": [\n",
      "    {\n",
      "     \"name\": \"stdout\",\n",
      "     \"output_type\": \"stream\",\n",
      "     \"text\": [\n",
      "      \"['Counter', 'Decimal', 'Fraction', 'NormalDist', 'StatisticsError', '__all__', '__builtins__', '__cached__', '__doc__', '__file__', '__loader__', '__name__', '__package__', '__spec__', '_coerce', '_convert', '_exact_ratio', '_fail_neg', '_find_lteq', '_find_rteq', '_isfinite', '_normal_dist_inv_cdf', '_ss', '_sum', 'bisect_left', 'bisect_right', 'erf', 'exp', 'fabs', 'fmean', 'fsum', 'geometric_mean', 'groupby', 'harmonic_mean', 'hypot', 'itemgetter', 'log', 'math', 'mean', 'median', 'median_grouped', 'median_high', 'median_low', 'mode', 'multimode', 'numbers', 'pstdev', 'pvariance', 'quantiles', 'random', 'sqrt', 'stdev', 'tau', 'variance']\\n\"\n",
      "     ]\n",
      "    }\n",
      "   ],\n",
      "   \"source\": [\n",
      "    \"import statistics\\n\",\n",
      "    \"print(dir(statistics))\"\n",
      "   ]\n",
      "  },\n",
      "  {\n",
      "   \"cell_type\": \"code\",\n",
      "   \"execution_count\": 4,\n",
      "   \"metadata\": {},\n",
      "   \"outputs\": [],\n",
      "   \"source\": [\n",
      "    \"numbers = [45, 89, 80, 65, 45, 20, 45, 23, ]\\n\"\n",
      "   ]\n",
      "  },\n",
      "  {\n",
      "   \"cell_type\": \"code\",\n",
      "   \"execution_count\": 5,\n",
      "   \"metadata\": {},\n",
      "   \"outputs\": [\n",
      "    {\n",
      "     \"name\": \"stdout\",\n",
      "     \"output_type\": \"stream\",\n",
      "     \"text\": [\n",
      "      \"['BPF', 'LOG4', 'NV_MAGICCONST', 'RECIP_BPF', 'Random', 'SG_MAGICCONST', 'SystemRandom', 'TWOPI', '_Sequence', '_Set', '__all__', '__builtins__', '__cached__', '__doc__', '__file__', '__loader__', '__name__', '__package__', '__spec__', '_accumulate', '_acos', '_bisect', '_ceil', '_cos', '_e', '_exp', '_floor', '_inst', '_log', '_os', '_pi', '_random', '_repeat', '_sha512', '_sin', '_sqrt', '_test', '_test_generator', '_urandom', '_warn', 'betavariate', 'choice', 'choices', 'expovariate', 'gammavariate', 'gauss', 'getrandbits', 'getstate', 'lognormvariate', 'normalvariate', 'paretovariate', 'randbytes', 'randint', 'random', 'randrange', 'sample', 'seed', 'setstate', 'shuffle', 'triangular', 'uniform', 'vonmisesvariate', 'weibullvariate']\\n\"\n",
      "     ]\n",
      "    }\n",
      "   ],\n",
      "   \"source\": [\n",
      "    \"import random\\n\",\n",
      "    \"print(dir(random))\"\n",
      "   ]\n",
      "  },\n",
      "  {\n",
      "   \"cell_type\": \"code\",\n",
      "   \"execution_count\": 8,\n",
      "   \"metadata\": {},\n",
      "   \"outputs\": [\n",
      "    {\n",
      "     \"name\": \"stdout\",\n",
      "     \"output_type\": \"stream\",\n",
      "     \"text\": [\n",
      "      \"[23, 45, 80, 20, 45, 89, 45, 65]\\n\"\n",
      "     ]\n",
      "    }\n",
      "   ],\n",
      "   \"source\": [\n",
      "    \"random.shuffle(numbers)\\n\",\n",
      "    \"print(numbers)\"\n",
      "   ]\n",
      "  },\n",
      "  {\n",
      "   \"cell_type\": \"code\",\n",
      "   \"execution_count\": 10,\n",
      "   \"metadata\": {},\n",
      "   \"outputs\": [\n",
      "    {\n",
      "     \"data\": {\n",
      "      \"text/plain\": [\n",
      "       \"89\"\n",
      "      ]\n",
      "     },\n",
      "     \"execution_count\": 10,\n",
      "     \"metadata\": {},\n",
      "     \"output_type\": \"execute_result\"\n",
      "    }\n",
      "   ],\n",
      "   \"source\": [\n",
      "    \"random.choice(numbers)\"\n",
      "   ]\n",
      "  },\n",
      "  {\n",
      "   \"cell_type\": \"code\",\n",
      "   \"execution_count\": 11,\n",
      "   \"metadata\": {},\n",
      "   \"outputs\": [\n",
      "    {\n",
      "     \"data\": {\n",
      "      \"text/plain\": [\n",
      "       \"10\"\n",
      "      ]\n",
      "     },\n",
      "     \"execution_count\": 11,\n",
      "     \"metadata\": {},\n",
      "     \"output_type\": \"execute_result\"\n",
      "    }\n",
      "   ],\n",
      "   \"source\": [\n",
      "    \"random.randint(10,40)\"\n",
      "   ]\n",
      "  },\n",
      "  {\n",
      "   \"cell_type\": \"code\",\n",
      "   \"execution_count\": 14,\n",
      "   \"metadata\": {},\n",
      "   \"outputs\": [],\n",
      "   \"source\": [\n",
      "    \"#conditional statement\\n\",\n",
      "    \"num = int(input('Please provide a number:'))\\n\",\n",
      "    \"if num > 0: \\n\",\n",
      "    \"    print(f'{num} is a positive number')\\n\",\n",
      "    \"   \"\n",
      "   ]\n",
      "  },\n",
      "  {\n",
      "   \"cell_type\": \"code\",\n",
      "   \"execution_count\": 16,\n",
      "   \"metadata\": {},\n",
      "   \"outputs\": [\n",
      "    {\n",
      "     \"name\": \"stdout\",\n",
      "     \"output_type\": \"stream\",\n",
      "     \"text\": [\n",
      "      \"90 is a positive number\\n\"\n",
      "     ]\n",
      "    }\n",
      "   ],\n",
      "   \"source\": [\n",
      "    \"num = int(input('Please provide a number:'))\\n\",\n",
      "    \"if num > 0: \\n\",\n",
      "    \"    print(f'{num} is a positive number')\\n\",\n",
      "    \"else:\\n\",\n",
      "    \"    print(f'{num} is a negative number or zero') \"\n",
      "   ]\n",
      "  },\n",
      "  {\n",
      "   \"cell_type\": \"code\",\n",
      "   \"execution_count\": 21,\n",
      "   \"metadata\": {},\n",
      "   \"outputs\": [\n",
      "    {\n",
      "     \"name\": \"stdout\",\n",
      "     \"output_type\": \"stream\",\n",
      "     \"text\": [\n",
      "      \"Ade made a loss of 1900\\n\"\n",
      "     ]\n",
      "    }\n",
      "   ],\n",
      "   \"source\": [\n",
      "    \"#exercise one\\n\",\n",
      "    \"#Ade bought 8 banana for 800 each two got spoilt and he sold the remaining 6 at 750 each write a program to check if profit was made or lst was made\\n\",\n",
      "    \"costPrice = (8*800)\\n\",\n",
      "    \"sellingPrice = (6 * 750)\\n\",\n",
      "    \"amountWithAde = (costPrice - sellingPrice)\\n\",\n",
      "    \"if costPrice > sellingPrice:\\n\",\n",
      "    \"    print(f'Ade made a loss of {amountWithAde}')\\n\",\n",
      "    \"else: \\n\",\n",
      "    \"    print(f'Ade made a profit of {-amountWithAde}')\"\n",
      "   ]\n",
      "  },\n",
      "  {\n",
      "   \"cell_type\": \"code\",\n",
      "   \"execution_count\": 28,\n",
      "   \"metadata\": {},\n",
      "   \"outputs\": [\n",
      "    {\n",
      "     \"name\": \"stdout\",\n",
      "     \"output_type\": \"stream\",\n",
      "     \"text\": [\n",
      "      \"0 is a zero\\n\"\n",
      "     ]\n",
      "    }\n",
      "   ],\n",
      "   \"source\": [\n",
      "    \"num = int(input('Please provide a number:'))\\n\",\n",
      "    \"if num > 0: \\n\",\n",
      "    \"    print(f'{num} is a positive number')\\n\",\n",
      "    \"else:\\n\",\n",
      "    \"    if num < 0:\\n\",\n",
      "    \"        print(f'{num} is a negative number')\\n\",\n",
      "    \"    else: \\n\",\n",
      "    \"        print(f'{num} is a zero')\\n\"\n",
      "   ]\n",
      "  },\n",
      "  {\n",
      "   \"cell_type\": \"code\",\n",
      "   \"execution_count\": 31,\n",
      "   \"metadata\": {},\n",
      "   \"outputs\": [\n",
      "    {\n",
      "     \"name\": \"stdout\",\n",
      "     \"output_type\": \"stream\",\n",
      "     \"text\": [\n",
      "      \"900000000000000000 is a positive number\\n\"\n",
      "     ]\n",
      "    }\n",
      "   ],\n",
      "   \"source\": [\n",
      "    \"num = int(input('Please provide a number:'))\\n\",\n",
      "    \"if num > 0: \\n\",\n",
      "    \"    print(f'{num} is a positive number')\\n\",\n",
      "    \"elif num > 0:\\n\",\n",
      "    \"    print(f'{num} is a negative number')\\n\",\n",
      "    \"else:\\n\",\n",
      "    \"    print(f'{num} is Zero')   \"\n",
      "   ]\n",
      "  },\n",
      "  {\n",
      "   \"cell_type\": \"code\",\n",
      "   \"execution_count\": 37,\n",
      "   \"metadata\": {},\n",
      "   \"outputs\": [\n",
      "    {\n",
      "     \"name\": \"stdout\",\n",
      "     \"output_type\": \"stream\",\n",
      "     \"text\": [\n",
      "      \"Your average score in the above subject is 73.75 your grade is A\\n\"\n",
      "     ]\n",
      "    }\n",
      "   ],\n",
      "   \"source\": [\n",
      "    \"sub1 = float(input('MathScore'))\\n\",\n",
      "    \"sub2 = float(input('EnglishScore'))\\n\",\n",
      "    \"sub3 = float(input('BiologyScore'))\\n\",\n",
      "    \"sub4 = float(input('ChemistryScore'))\\n\",\n",
      "    \"sub5 = float(input('PhysicsScore'))\\n\",\n",
      "    \"sub6 = float(input('AgricScore'))\\n\",\n",
      "    \"sub7 = float(input('EconomicsScore'))\\n\",\n",
      "    \"sub8 = float(input('GeographyScore'))\\n\",\n",
      "    \"\\n\",\n",
      "    \"Average_score = sum([sub1,sub2,sub3,sub4,sub5,sub6,sub7,sub8])/8\\n\",\n",
      "    \"if Average_score >= 70 and Average_score <= 100:\\n\",\n",
      "    \"    print(f'Your average score in the above subject is {Average_score} your grade is A')\\n\",\n",
      "    \"elif Average_score >= 60 and Average_score <= 69.99:\\n\",\n",
      "    \"    print(f'Your average score in the above subject is {Average_score} your grade is B')\\n\",\n",
      "    \"elif Average_score >= 50 and Average_score <= 59.99:\\n\",\n",
      "    \"    print(f'Your average score in the above subject is {Average_score} your grade is C')\\n\",\n",
      "    \"elif Average_score >= 40 and Average_score <= 49.99:\\n\",\n",
      "    \"    print(f'Your average score in the above subject is {Average_score} your grade is D')\\n\",\n",
      "    \"elif Average_score >= 31 and Average_score <= 39.99:\\n\",\n",
      "    \"    print(f'Your average score in the above subject is {Average_score} your grade is E')\\n\",\n",
      "    \"else:\\n\",\n",
      "    \"    print(f'Your average score in the above subject is {Average_score} your grade is F')    \"\n",
      "   ]\n",
      "  },\n",
      "  {\n",
      "   \"cell_type\": \"code\",\n",
      "   \"execution_count\": null,\n",
      "   \"metadata\": {},\n",
      "   \"outputs\": [],\n",
      "   \"source\": [\n",
      "    \"\\n\"\n",
      "   ]\n",
      "  },\n",
      "  {\n",
      "   \"cell_type\": \"code\",\n",
      "   \"execution_count\": null,\n",
      "   \"metadata\": {},\n",
      "   \"outputs\": [],\n",
      "   \"source\": []\n",
      "  },\n",
      "  {\n",
      "   \"cell_type\": \"code\",\n",
      "   \"execution_count\": null,\n",
      "   \"metadata\": {},\n",
      "   \"outputs\": [],\n",
      "   \"source\": []\n",
      "  },\n",
      "  {\n",
      "   \"cell_type\": \"code\",\n",
      "   \"execution_count\": null,\n",
      "   \"metadata\": {},\n",
      "   \"outputs\": [],\n",
      "   \"source\": []\n",
      "  },\n",
      "  {\n",
      "   \"cell_type\": \"code\",\n",
      "   \"execution_count\": null,\n",
      "   \"metadata\": {},\n",
      "   \"outputs\": [],\n",
      "   \"source\": []\n",
      "  },\n",
      "  {\n",
      "   \"cell_type\": \"code\",\n",
      "   \"execution_count\": null,\n",
      "   \"metadata\": {},\n",
      "   \"outputs\": [],\n",
      "   \"source\": []\n",
      "  },\n",
      "  {\n",
      "   \"cell_type\": \"code\",\n",
      "   \"execution_count\": null,\n",
      "   \"metadata\": {},\n",
      "   \"outputs\": [],\n",
      "   \"source\": []\n",
      "  },\n",
      "  {\n",
      "   \"cell_type\": \"code\",\n",
      "   \"execution_count\": null,\n",
      "   \"metadata\": {},\n",
      "   \"outputs\": [],\n",
      "   \"source\": []\n",
      "  }\n",
      " ],\n",
      " \"metadata\": {\n",
      "  \"kernelspec\": {\n",
      "   \"display_name\": \"Python 3.9.13 32-bit\",\n",
      "   \"language\": \"python\",\n",
      "   \"name\": \"python3\"\n",
      "  },\n",
      "  \"language_info\": {\n",
      "   \"codemirror_mode\": {\n",
      "    \"name\": \"ipython\",\n",
      "    \"version\": 3\n",
      "   },\n",
      "   \"file_extension\": \".py\",\n",
      "   \"mimetype\": \"text/x-python\",\n",
      "   \"name\": \"python\",\n",
      "   \"nbconvert_exporter\": \"python\",\n",
      "   \"pygments_lexer\": \"ipython3\",\n",
      "   \"version\": \"3.9.13\"\n",
      "  },\n",
      "  \"orig_nbformat\": 4,\n",
      "  \"vscode\": {\n",
      "   \"interpreter\": {\n",
      "    \"hash\": \"da3600aafbba33963195a4a73fabd79dc432f3ac3e0a81166894c5c7b51fafd9\"\n",
      "   }\n",
      "  }\n",
      " },\n",
      " \"nbformat\": 4,\n",
      " \"nbformat_minor\": 2\n",
      "}\n",
      "\n"
     ]
    },
    {
     "data": {
      "text/plain": [
       "<function TextIOWrapper.close()>"
      ]
     },
     "execution_count": 54,
     "metadata": {},
     "output_type": "execute_result"
    }
   ],
   "source": [
    "file = open('day 4.ipynb', 'r')\n",
    "print(file.read())\n",
    "file.close   \n",
    "                                                                               "
   ]
  },
  {
   "cell_type": "code",
   "execution_count": 53,
   "metadata": {},
   "outputs": [],
   "source": [
    "file = open('demo.txt', 'a')\n",
    "file.write('END OF PROGRAM!!!!')\n",
    "file.close()"
   ]
  },
  {
   "cell_type": "code",
   "execution_count": 52,
   "metadata": {},
   "outputs": [],
   "source": [
    "file = open('demo.pdf', 'a')\n",
    "file.write('END OF PROGRAM!!!!!!')\n",
    "file.close()\n"
   ]
  },
  {
   "cell_type": "code",
   "execution_count": 48,
   "metadata": {},
   "outputs": [
    {
     "name": "stdout",
     "output_type": "stream",
     "text": [
      "\n",
      "_yourdate = input('Pls enter your appiontment date in the format dd/mm/yyyy')\n",
      "_yourDate = datetime.datetime.strptime(_yourdate, '%d/%m/%Y').date()\n",
      "currentdate2 = datetime.date.today()\n",
      "total_numbers_of_days = _yourDate - currentdate2\n",
      "num_of_weeks = total_numbers_of_days.days//7\n",
      "END OF PROGRAM!!!!END OF PROGRAM!!!!\n"
     ]
    }
   ],
   "source": [
    "file =open('demo.txt', 'r+')\n",
    "print(file.read())\n",
    "file.write('PYTHON IS FUN!!!!')\n",
    "file.close()"
   ]
  },
  {
   "cell_type": "code",
   "execution_count": 50,
   "metadata": {},
   "outputs": [
    {
     "name": "stdout",
     "output_type": "stream",
     "text": [
      "\n",
      "_yourdate = input('Pls enter your appiontment date in the format dd/mm/yyyy')\n",
      "_yourDate = datetime.datetime.strptime(_yourdate, '%d/%m/%Y').date()\n",
      "currentdate2 = datetime.date.today()\n",
      "total_numbers_of_days = _yourDate - currentdate2\n",
      "num_of_weeks = total_numbers_of_days.days//7\n",
      "END OF PROGRAM!!!!!!\n"
     ]
    }
   ],
   "source": [
    "file =open('demo.pdf', 'r+')\n",
    "print(file.read())\n",
    "file.write('PYTHON IS FUN!!!!')\n",
    "file.close()"
   ]
  },
  {
   "cell_type": "code",
   "execution_count": null,
   "metadata": {},
   "outputs": [],
   "source": []
  }
 ],
 "metadata": {
  "kernelspec": {
   "display_name": "Python 3.9.13 32-bit",
   "language": "python",
   "name": "python3"
  },
  "language_info": {
   "codemirror_mode": {
    "name": "ipython",
    "version": 3
   },
   "file_extension": ".py",
   "mimetype": "text/x-python",
   "name": "python",
   "nbconvert_exporter": "python",
   "pygments_lexer": "ipython3",
   "version": "3.9.13"
  },
  "orig_nbformat": 4,
  "vscode": {
   "interpreter": {
    "hash": "da3600aafbba33963195a4a73fabd79dc432f3ac3e0a81166894c5c7b51fafd9"
   }
  }
 },
 "nbformat": 4,
 "nbformat_minor": 2
}
