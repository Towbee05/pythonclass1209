{
 "cells": [
  {
   "cell_type": "code",
   "execution_count": 1,
   "metadata": {},
   "outputs": [],
   "source": [
    "#  ERRORS HANDLING!!!\n",
    "\n"
   ]
  },
  {
   "cell_type": "code",
   "execution_count": 2,
   "metadata": {},
   "outputs": [
    {
     "name": "stdout",
     "output_type": "stream",
     "text": [
      "10 / 5 = 2.0\n"
     ]
    }
   ],
   "source": [
    "try:\n",
    "    num1 = int(input('Please provide first number'))\n",
    "    num2 = int(input('Please provide second number'))\n",
    "    option = input('Please pick your operation(+,-,/,*)')\n",
    "    if option == '+':\n",
    "        print(f'{num1} + {num2} = {num1 + num2}')\n",
    "    elif option == '-':\n",
    "        print(f'{num1} - {num2} = {num1 - num2}')\n",
    "    elif option == '/':\n",
    "       print(f'{num1} / {num2} = {num1 / num2}')\n",
    "    elif option == '*': \n",
    "         print(f'{num1} * {num2} = {num1 * num2}')\n",
    "except:\n",
    "    print('YOU HAVE ENCOUNTERED ONE OR MORE ERRORS')\n"
   ]
  },
  {
   "cell_type": "code",
   "execution_count": 6,
   "metadata": {},
   "outputs": [
    {
     "name": "stdout",
     "output_type": "stream",
     "text": [
      "70 / 10 = 7.0\n",
      "70 ** 10 = 2824752490000000000\n",
      "END OF PROGRAM\n"
     ]
    }
   ],
   "source": [
    "try:\n",
    "    num1 = int(input('Please provide first number'))\n",
    "    num2 = int(input('Please provide second number'))\n",
    "    option = input('Please pick your operation(+,-,/,*)')\n",
    "    if option == '+':\n",
    "        print(f'{num1} + {num2} = {num1 + num2}')\n",
    "    elif option == '-':\n",
    "        print(f'{num1} - {num2} = {num1 - num2}')\n",
    "    elif option == '/':\n",
    "       print(f'{num1} / {num2} = {num1 / num2}')\n",
    "    elif option == '*': \n",
    "         print(f'{num1} * {num2} = {num1 * num2}')\n",
    "except ValueError:\n",
    "    print('INTEGER VALUE EXPECTED NOT FLOAT OR STRING')\n",
    "except ZeroDivisionError:\n",
    "    print('DIVISION BY ZERO IS IMPOSSIBLE')\n",
    "    \n",
    "except:\n",
    "    print('YOU HAVE ENCOUNTERED ONE OR MORE ERROR')\n",
    "else:\n",
    "    print(f'{num1} ** {num2} = {num1 ** num2}')\n",
    "finally:\n",
    "    print('END OF PROGRAM')"
   ]
  },
  {
   "cell_type": "code",
   "execution_count": 7,
   "metadata": {},
   "outputs": [
    {
     "ename": "SyntaxError",
     "evalue": "unexpected EOF while parsing (4245083663.py, line 4)",
     "output_type": "error",
     "traceback": [
      "\u001b[1;36m  Cell \u001b[1;32mIn [7], line 4\u001b[1;36m\u001b[0m\n\u001b[1;33m    \u001b[0m\n\u001b[1;37m    ^\u001b[0m\n\u001b[1;31mSyntaxError\u001b[0m\u001b[1;31m:\u001b[0m unexpected EOF while parsing\n"
     ]
    }
   ],
   "source": [
    "# USING ERROR HANDLING, WRITE A LIFT PROGRAM FOR A MALL HAVING 5 FLOORS AND EACH FLOOR HAVING 3 SHOP SPACE"
   ]
  },
  {
   "cell_type": "code",
   "execution_count": 15,
   "metadata": {},
   "outputs": [
    {
     "name": "stdout",
     "output_type": "stream",
     "text": [
      "SHOP 3 IS LOCATED DOWN THE HALLWAY ON THIS FLOOR!!\n",
      "WELCOME TO SHOP 3\n",
      "THANKS FOR COMING!!!\n"
     ]
    }
   ],
   "source": [
    "try:\n",
    "    floor = int(input('PLEASE SELECT FLOOR LEVEL!!!'))\n",
    "    if floor < 1:\n",
    "        print('NO NEGATIVE FLOOR PLEASE AVAILABLE PLEASE!!!')\n",
    "    elif floor > 5:\n",
    "        print('ONLY FIVE FLOORS AVAILABLE PLEASE')\n",
    "    elif floor == 1:\n",
    "        shop = int(input('SELECT SHOP PLEASE'))\n",
    "        if shop < 1:\n",
    "            print('ERROR')\n",
    "        elif shop > 3:\n",
    "            print('ONlY 3 SHOP SPACE AVAILABLE ON THIS FLOOR')\n",
    "        elif shop == 1:\n",
    "            print('SHOP 1 IS IN THE LEFT CORNER OF THIS FLOOR!')\n",
    "            print('WELCOME TO SHOP 1')\n",
    "        elif shop == 2:\n",
    "            print('SHOP 2 IS DIRECTLY OPPOSITE SHOP 1 ON THIS FLOOR!')\n",
    "            print('WELCOME TO SHOP 2')\n",
    "        elif shop == 3:\n",
    "            print('SHOP 3 IS LOCATED DOWN THE HALLWAY ON THIS FLOOR!!')\n",
    "            print('WELCOME TO SHOP 3')\n",
    "    elif floor == 2:\n",
    "        shop = int(input('SELECT SHOP PLEASE'))\n",
    "        if shop < 1:\n",
    "            print('ERROR')\n",
    "        elif shop > 3:\n",
    "            print('ONlY 3 SHOP SPACE AVAILABLE ON THIS FLOOR')\n",
    "        elif shop == 1:\n",
    "            print('SHOP 1 IS IN THE LEFT CORNER OF THIS FLOOR!')\n",
    "            print('WELCOME TO SHOP 1')\n",
    "        elif shop == 2:\n",
    "            print('SHOP 2 IS DIRECTLY OPPOSITE SHOP 1 ON THIS FLOOR!')\n",
    "            print('WELCOME TO SHOP 2')\n",
    "        elif shop == 3:\n",
    "            print('SHOP 3 IS LOCATED DOWN THE HALLWAY ON THIS FLOOR!!')\n",
    "            print('WELCOME TO SHOP 3')\n",
    "    elif floor == 3:\n",
    "        shop = int(input('SELECT SHOP PLEASE'))\n",
    "        if shop < 1:\n",
    "            print('ERROR')\n",
    "        elif shop > 3:\n",
    "            print('ONlY 3 SHOP SPACE AVAILABLE ON THIS FLOOR')\n",
    "        elif shop == 1:\n",
    "            print('SHOP 1 IS IN THE LEFT CORNER OF THIS FLOOR!')\n",
    "            print('WELCOME TO SHOP 1')\n",
    "        elif shop == 2:\n",
    "            print('SHOP 2 IS DIRECTLY OPPOSITE SHOP 1 ON THIS FLOOR!')\n",
    "            print('WELCOME TO SHOP 2')\n",
    "        elif shop == 3:\n",
    "            print('SHOP 3 IS LOCATED DOWN THE HALLWAY ON THIS FLOOR!!')\n",
    "            print('WELCOME TO SHOP 3')\n",
    "    elif floor == 4:\n",
    "        shop = int(input('SELECT SHOP PLEASE'))\n",
    "        if shop < 1:\n",
    "            print('ERROR')\n",
    "        elif shop > 3:\n",
    "            print('ONlY 3 SHOP SPACE AVAILABLE ON THIS FLOOR')\n",
    "        elif shop == 1:\n",
    "            print('SHOP 1 IS IN THE LEFT CORNER OF THIS FLOOR!')\n",
    "            print('WELCOME TO SHOP 1')\n",
    "        elif shop == 2:\n",
    "            print('SHOP 2 IS DIRECTLY OPPOSITE SHOP 1 ON THIS FLOOR!')\n",
    "            print('WELCOME TO SHOP 2')\n",
    "        elif shop == 3:\n",
    "            print('SHOP 3 IS LOCATED DOWN THE HALLWAY ON THIS FLOOR!!')\n",
    "            print('WELCOME TO SHOP 3')\n",
    "    elif floor == 5:\n",
    "        shop = int(input('SELECT SHOP PLEASE'))\n",
    "        if shop < 1:\n",
    "            print('ERROR')\n",
    "        elif shop > 3:\n",
    "            print('ONlY 3 SHOP SPACE AVAILABLE ON THIS FLOOR')\n",
    "        elif shop == 1:\n",
    "            print('SHOP 1 IS IN THE LEFT CORNER OF THIS FLOOR!')\n",
    "            print('WELCOME TO SHOP 1')\n",
    "        elif shop == 2:\n",
    "            print('SHOP 2 IS DIRECTLY OPPOSITE SHOP 1 ON THIS FLOOR!')\n",
    "            print('WELCOME TO SHOP 2')\n",
    "        elif shop == 3:\n",
    "            print('SHOP 3 IS LOCATED DOWN THE HALLWAY ON THIS FLOOR!!')\n",
    "            print('WELCOME TO SHOP 3')\n",
    "except ValueError:\n",
    "        print('NO FLOOR/SHOP CONTAIN INTEGER OR STRING NAMES')\n",
    "except:\n",
    "    print('ONE OR MORE ERRORS ENCOUNTERED')\n",
    "finally:\n",
    "    con = input('ARE YOU COMING IN OR GOING OUT??? INPUT IN/OUT IF SO!!')\n",
    "    if con == 'in':\n",
    "        print('WELCOME TO TORIS MALL!!!')\n",
    "        print('HAVE A PLEASENT STAY WITH US!!!!')\n",
    "    else: \n",
    "        print('THANKS FOR COMING!!!')"
   ]
  },
  {
   "cell_type": "code",
   "execution_count": null,
   "metadata": {},
   "outputs": [],
   "source": []
  },
  {
   "cell_type": "code",
   "execution_count": null,
   "metadata": {},
   "outputs": [],
   "source": []
  },
  {
   "cell_type": "code",
   "execution_count": null,
   "metadata": {},
   "outputs": [],
   "source": []
  },
  {
   "cell_type": "code",
   "execution_count": null,
   "metadata": {},
   "outputs": [],
   "source": []
  },
  {
   "cell_type": "code",
   "execution_count": null,
   "metadata": {},
   "outputs": [],
   "source": []
  }
 ],
 "metadata": {
  "kernelspec": {
   "display_name": "Python 3.9.13 32-bit",
   "language": "python",
   "name": "python3"
  },
  "language_info": {
   "codemirror_mode": {
    "name": "ipython",
    "version": 3
   },
   "file_extension": ".py",
   "mimetype": "text/x-python",
   "name": "python",
   "nbconvert_exporter": "python",
   "pygments_lexer": "ipython3",
   "version": "3.9.13"
  },
  "orig_nbformat": 4,
  "vscode": {
   "interpreter": {
    "hash": "da3600aafbba33963195a4a73fabd79dc432f3ac3e0a81166894c5c7b51fafd9"
   }
  }
 },
 "nbformat": 4,
 "nbformat_minor": 2
}
