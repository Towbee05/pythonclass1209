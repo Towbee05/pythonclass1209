{
 "cells": [
  {
   "cell_type": "code",
   "execution_count": 2,
   "metadata": {},
   "outputs": [
    {
     "name": "stdout",
     "output_type": "stream",
     "text": [
      "ppp\n",
      "yyy\n",
      "ttt\n",
      "hhh\n",
      "ooo\n",
      "nnn\n",
      "iii\n",
      "sss\n",
      "fff\n",
      "uuu\n",
      "nnn\n"
     ]
    }
   ],
   "source": [
    "#loops\n",
    "character = 'pythonisfun'\n",
    "for char in character:\n",
    "    print(char * 3)"
   ]
  },
  {
   "cell_type": "code",
   "execution_count": 1,
   "metadata": {},
   "outputs": [
    {
     "name": "stdout",
     "output_type": "stream",
     "text": [
      "ppp::yyy::ttt::hhh::ooo::nnn::iii::sss::fff::uuu::nnn::"
     ]
    }
   ],
   "source": [
    "character = 'pythonisfun'\n",
    "for char in character:\n",
    "    print(char * 3,end = '::')"
   ]
  },
  {
   "cell_type": "code",
   "execution_count": 1,
   "metadata": {},
   "outputs": [
    {
     "name": "stdout",
     "output_type": "stream",
     "text": [
      "Goodday Mr Akin this is to remind you of our meeting slated to hold on Friday by 12 noon\n",
      "Goodday Mr John this is to remind you of our meeting slated to hold on Friday by 12 noon\n",
      "Goodday Mrs Janet this is to remind you of our meeting slated to hold on Friday by 12 noon\n",
      "Goodday Dr Faith this is to remind you of our meeting slated to hold on Friday by 12 noon\n"
     ]
    }
   ],
   "source": [
    "dep_head = ['Mr Akin', 'Mr John', 'Mrs Janet', 'Dr Faith']\n",
    "for names in dep_head:\n",
    "    print(f'Goodday {names} this is to remind you of our meeting slated to hold on Friday by 12 noon')"
   ]
  },
  {
   "cell_type": "code",
   "execution_count": 2,
   "metadata": {},
   "outputs": [
    {
     "name": "stdout",
     "output_type": "stream",
     "text": [
      "6 * 1 = 6\n",
      "6 * 2 = 12\n",
      "6 * 3 = 18\n",
      "6 * 4 = 24\n",
      "6 * 5 = 30\n",
      "6 * 6 = 36\n",
      "6 * 7 = 42\n",
      "6 * 8 = 48\n",
      "6 * 9 = 54\n",
      "6 * 10 = 60\n",
      "6 * 11 = 66\n",
      "6 * 12 = 72\n"
     ]
    }
   ],
   "source": [
    "num = int(input('Provide a number'))\n",
    "for i in range(1,13):\n",
    "    print(f'{num} * {i} = {num*i}')"
   ]
  },
  {
   "cell_type": "code",
   "execution_count": 3,
   "metadata": {},
   "outputs": [
    {
     "name": "stdout",
     "output_type": "stream",
     "text": [
      "James:: {'English:67', 'Physics:80', 'Math:90', 'Chemistry:90'}\n",
      "Samuel:: {'English:67', 'Physics:80', 'Math:90', 'Chemistry:90'}\n",
      "Faith:: {'English:67', 'Physics:80', 'Math:90', 'Chemistry:90'}\n",
      "Jane:: {'English:67', 'Physics:80', 'Math:90', 'Chemistry:90'}\n",
      "Obi:: {'English:67', 'Physics:80', 'Math:90', 'Chemistry:90'}\n"
     ]
    }
   ],
   "source": [
    "student_records = {\n",
    "    'James' :{'Math:90', 'English:67', 'Physics:80', 'Chemistry:90'},\n",
    "    'Samuel' :{'Math:90', 'English:67', 'Physics:80', 'Chemistry:90'},\n",
    "    'Faith' :{'Math:90', 'English:67', 'Physics:80', 'Chemistry:90'},\n",
    "    'Jane' : {'Math:90', 'English:67', 'Physics:80', 'Chemistry:90'},\n",
    "    'Obi' : {'Math:90', 'English:67', 'Physics:80', 'Chemistry:90'}\n",
    "}\n",
    "for keys,values in student_records.items():\n",
    "    print(f'{keys}:: {values}')\n"
   ]
  },
  {
   "cell_type": "code",
   "execution_count": 4,
   "metadata": {},
   "outputs": [
    {
     "name": "stdout",
     "output_type": "stream",
     "text": [
      "Record not found\n"
     ]
    }
   ],
   "source": [
    "student_records = {\n",
    "    'James' :{'Math:90', 'English:67', 'Physics:88', 'Chemistry:90'},\n",
    "    'Samuel' :{'Math:80', 'English:90', 'Physics:70', 'Chemistry:88'},\n",
    "    'Faith' :{'Math:78', 'English:78', 'Physics:90', 'Chemistry:65'},\n",
    "    'Jane' : {'Math:69', 'English:80', 'Physics:92', 'Chemistry:72'},\n",
    "    'Obi' : {'Math:52', 'English:85', 'Physics:86', 'Chemistry:56'}\n",
    "}\n",
    "name = input(\"Pls provide name to access score\")\n",
    "for keys in student_records:\n",
    "     if name == keys:\n",
    "        print(f'Congratulations your score are as follows{student_records[keys]}')\n",
    "else:\n",
    "     print(\"Record not found\") "
   ]
  },
  {
   "cell_type": "code",
   "execution_count": null,
   "metadata": {},
   "outputs": [
    {
     "name": "stdout",
     "output_type": "stream",
     "text": [
      "Record not found\n"
     ]
    }
   ],
   "source": [
    "student_records = {\n",
    "    'James' :{'Math:90', 'English:67', 'Physics:88', 'Chemistry:90'},\n",
    "    'Samuel' :{'Math:80', 'English:90', 'Physics:70', 'Chemistry:88'},\n",
    "    'Faith' :{'Math:78', 'English:78', 'Physics:90', 'Chemistry:65'},\n",
    "    'Jane' : {'Math:69', 'English:80', 'Physics:92', 'Chemistry:72'},\n",
    "    'Obi' : {'Math:52', 'English:85', 'Physics:86', 'Chemistry:56'}\n",
    "}\n",
    "name = input(\"Pls provide name to access score\")\n",
    "for keys in student_records:\n",
    "     if name == keys:\n",
    "        print(f'Congratulations your score are as follows{student_records[keys]}')\n",
    "        break\n",
    "else:\n",
    "     print(\"Record not found\") "
   ]
  },
  {
   "cell_type": "code",
   "execution_count": null,
   "metadata": {},
   "outputs": [
    {
     "name": "stdout",
     "output_type": "stream",
     "text": [
      "Congratulations your score are as follows{'Chemistry:56', 'Physics:86', 'English:85', 'Math:52'}\n",
      "Record not found\n"
     ]
    }
   ],
   "source": [
    "student_records = {\n",
    "    'James' :{'Math:90', 'English:67', 'Physics:88', 'Chemistry:90'},\n",
    "    'Samuel' :{'Math:80', 'English:90', 'Physics:70', 'Chemistry:88'},\n",
    "    'Faith' :{'Math:78', 'English:78', 'Physics:90', 'Chemistry:65'},\n",
    "    'Jane' : {'Math:69', 'English:80', 'Physics:92', 'Chemistry:72'},\n",
    "    'Obi' : {'Math:52', 'English:85', 'Physics:86', 'Chemistry:56'}\n",
    "}\n",
    "name = input(\"Pls provide name to access score\")\n",
    "for keys in student_records:\n",
    "     if name == keys:\n",
    "        print(f'Congratulations your score are as follows{student_records[keys]}')\n",
    "        continue\n",
    "else:\n",
    "     print(\"Record not found\") "
   ]
  },
  {
   "cell_type": "code",
   "execution_count": null,
   "metadata": {},
   "outputs": [
    {
     "name": "stdout",
     "output_type": "stream",
     "text": [
      "The sqrt of 10 is 3.1622776601683795\n",
      "The sqrt of 1000 is 31.622776601683793\n",
      "The sqrt of 10000 is 100.0\n",
      "The sqrt of 100000 is 316.22776601683796\n"
     ]
    }
   ],
   "source": [
    "import math\n",
    "num = int(input('Pls provide a number:'))\n",
    "counter = 1\n",
    "while num != 0:\n",
    "    print(f'The sqrt of {num} is {math.sqrt(num)}')\n",
    "    num = int(input('Pls provide a number:'))\n",
    "    counter = counter + 1"
   ]
  },
  {
   "cell_type": "code",
   "execution_count": 5,
   "metadata": {},
   "outputs": [
    {
     "name": "stdout",
     "output_type": "stream",
     "text": [
      "[47, 69, 55, 79, 46, 45, 49, 53, 76, 69, 75, 51, 71, 47, 74, 74, 63, 59, 63, 65, 69, 63, 45, 80, 56, 66, 60, 46, 62, 61, 59, 51, 54, 51, 63, 79, 48, 53, 75, 58, 54, 57, 80, 60, 59, 55, 47, 78, 50, 77]\n"
     ]
    }
   ],
   "source": [
    "import random\n",
    "numbers = []\n",
    "counter = 1\n",
    "while counter <= 50:\n",
    "    num = random.randint(45,80)\n",
    "    numbers.append(num)\n",
    "    counter = counter + 1\n",
    "print(numbers)"
   ]
  },
  {
   "cell_type": "code",
   "execution_count": 6,
   "metadata": {},
   "outputs": [
    {
     "data": {
      "text/plain": [
       "50"
      ]
     },
     "execution_count": 6,
     "metadata": {},
     "output_type": "execute_result"
    }
   ],
   "source": [
    "len(numbers)"
   ]
  },
  {
   "cell_type": "code",
   "execution_count": null,
   "metadata": {},
   "outputs": [],
   "source": []
  },
  {
   "cell_type": "code",
   "execution_count": null,
   "metadata": {},
   "outputs": [],
   "source": [
    "\n"
   ]
  },
  {
   "cell_type": "code",
   "execution_count": null,
   "metadata": {},
   "outputs": [],
   "source": []
  }
 ],
 "metadata": {
  "kernelspec": {
   "display_name": "Python 3.9.13 32-bit",
   "language": "python",
   "name": "python3"
  },
  "language_info": {
   "codemirror_mode": {
    "name": "ipython",
    "version": 3
   },
   "file_extension": ".py",
   "mimetype": "text/x-python",
   "name": "python",
   "nbconvert_exporter": "python",
   "pygments_lexer": "ipython3",
   "version": "3.9.13"
  },
  "orig_nbformat": 4,
  "vscode": {
   "interpreter": {
    "hash": "da3600aafbba33963195a4a73fabd79dc432f3ac3e0a81166894c5c7b51fafd9"
   }
  }
 },
 "nbformat": 4,
 "nbformat_minor": 2
}
