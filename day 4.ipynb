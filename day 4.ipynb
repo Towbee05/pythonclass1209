{
 "cells": [
  {
   "cell_type": "code",
   "execution_count": 2,
   "metadata": {},
   "outputs": [
    {
     "name": "stdout",
     "output_type": "stream",
     "text": [
      "['__doc__', '__loader__', '__name__', '__package__', '__spec__', 'acos', 'acosh', 'asin', 'asinh', 'atan', 'atan2', 'atanh', 'ceil', 'comb', 'copysign', 'cos', 'cosh', 'degrees', 'dist', 'e', 'erf', 'erfc', 'exp', 'expm1', 'fabs', 'factorial', 'floor', 'fmod', 'frexp', 'fsum', 'gamma', 'gcd', 'hypot', 'inf', 'isclose', 'isfinite', 'isinf', 'isnan', 'isqrt', 'lcm', 'ldexp', 'lgamma', 'log', 'log10', 'log1p', 'log2', 'modf', 'nan', 'nextafter', 'perm', 'pi', 'pow', 'prod', 'radians', 'remainder', 'sin', 'sinh', 'sqrt', 'tan', 'tanh', 'tau', 'trunc', 'ulp']\n"
     ]
    }
   ],
   "source": [
    "import math\n",
    "print(dir(math))"
   ]
  },
  {
   "cell_type": "code",
   "execution_count": 2,
   "metadata": {},
   "outputs": [
    {
     "name": "stdout",
     "output_type": "stream",
     "text": [
      "15\n",
      "14\n",
      "2.6741486494265287\n",
      "3.8078865529319543\n"
     ]
    }
   ],
   "source": [
    "num = 14.5\n",
    "print(math.ceil(num))\n",
    "print(math.floor(num))\n",
    "print(math.log(num))\n",
    "print(math.sqrt(num))"
   ]
  },
  {
   "cell_type": "code",
   "execution_count": 5,
   "metadata": {},
   "outputs": [
    {
     "name": "stdout",
     "output_type": "stream",
     "text": [
      "['Counter', 'Decimal', 'Fraction', 'NormalDist', 'StatisticsError', '__all__', '__builtins__', '__cached__', '__doc__', '__file__', '__loader__', '__name__', '__package__', '__spec__', '_coerce', '_convert', '_exact_ratio', '_fail_neg', '_find_lteq', '_find_rteq', '_isfinite', '_normal_dist_inv_cdf', '_ss', '_sum', 'bisect_left', 'bisect_right', 'erf', 'exp', 'fabs', 'fmean', 'fsum', 'geometric_mean', 'groupby', 'harmonic_mean', 'hypot', 'itemgetter', 'log', 'math', 'mean', 'median', 'median_grouped', 'median_high', 'median_low', 'mode', 'multimode', 'numbers', 'pstdev', 'pvariance', 'quantiles', 'random', 'sqrt', 'stdev', 'tau', 'variance']\n"
     ]
    }
   ],
   "source": [
    "import statistics\n",
    "print(dir(statistics))"
   ]
  },
  {
   "cell_type": "code",
   "execution_count": 6,
   "metadata": {},
   "outputs": [],
   "source": [
    "numbers = [45, 89, 80, 65, 45, 20, 45, 23, ]\n"
   ]
  },
  {
   "cell_type": "code",
   "execution_count": 8,
   "metadata": {},
   "outputs": [
    {
     "name": "stdout",
     "output_type": "stream",
     "text": [
      "51.5\n",
      "45.0\n",
      "45\n",
      "45.811402780404705\n",
      "40.1474418864138\n"
     ]
    }
   ],
   "source": [
    "print(statistics.mean(numbers))\n",
    "print(statistics.median(numbers))\n",
    "print(statistics.mode(numbers))\n",
    "print(statistics.geometric_mean(numbers))\n",
    "print(statistics.harmonic_mean(numbers))"
   ]
  },
  {
   "cell_type": "code",
   "execution_count": 5,
   "metadata": {},
   "outputs": [
    {
     "name": "stdout",
     "output_type": "stream",
     "text": [
      "['BPF', 'LOG4', 'NV_MAGICCONST', 'RECIP_BPF', 'Random', 'SG_MAGICCONST', 'SystemRandom', 'TWOPI', '_Sequence', '_Set', '__all__', '__builtins__', '__cached__', '__doc__', '__file__', '__loader__', '__name__', '__package__', '__spec__', '_accumulate', '_acos', '_bisect', '_ceil', '_cos', '_e', '_exp', '_floor', '_inst', '_log', '_os', '_pi', '_random', '_repeat', '_sha512', '_sin', '_sqrt', '_test', '_test_generator', '_urandom', '_warn', 'betavariate', 'choice', 'choices', 'expovariate', 'gammavariate', 'gauss', 'getrandbits', 'getstate', 'lognormvariate', 'normalvariate', 'paretovariate', 'randbytes', 'randint', 'random', 'randrange', 'sample', 'seed', 'setstate', 'shuffle', 'triangular', 'uniform', 'vonmisesvariate', 'weibullvariate']\n"
     ]
    }
   ],
   "source": [
    "import random\n",
    "print(dir(random))"
   ]
  },
  {
   "cell_type": "code",
   "execution_count": 8,
   "metadata": {},
   "outputs": [
    {
     "name": "stdout",
     "output_type": "stream",
     "text": [
      "[23, 45, 80, 20, 45, 89, 45, 65]\n"
     ]
    }
   ],
   "source": [
    "random.shuffle(numbers)\n",
    "print(numbers)"
   ]
  },
  {
   "cell_type": "code",
   "execution_count": 10,
   "metadata": {},
   "outputs": [
    {
     "data": {
      "text/plain": [
       "89"
      ]
     },
     "execution_count": 10,
     "metadata": {},
     "output_type": "execute_result"
    }
   ],
   "source": [
    "random.choice(numbers)"
   ]
  },
  {
   "cell_type": "code",
   "execution_count": 11,
   "metadata": {},
   "outputs": [
    {
     "data": {
      "text/plain": [
       "10"
      ]
     },
     "execution_count": 11,
     "metadata": {},
     "output_type": "execute_result"
    }
   ],
   "source": [
    "random.randint(10,40)"
   ]
  },
  {
   "cell_type": "code",
   "execution_count": 14,
   "metadata": {},
   "outputs": [],
   "source": [
    "#conditional statement\n",
    "num = int(input('Please provide a number:'))\n",
    "if num > 0: \n",
    "    print(f'{num} is a positive number')\n",
    "   "
   ]
  },
  {
   "cell_type": "code",
   "execution_count": 16,
   "metadata": {},
   "outputs": [
    {
     "name": "stdout",
     "output_type": "stream",
     "text": [
      "90 is a positive number\n"
     ]
    }
   ],
   "source": [
    "num = int(input('Please provide a number:'))\n",
    "if num > 0: \n",
    "    print(f'{num} is a positive number')\n",
    "else:\n",
    "    print(f'{num} is a negative number or zero') "
   ]
  },
  {
   "cell_type": "code",
   "execution_count": 21,
   "metadata": {},
   "outputs": [
    {
     "name": "stdout",
     "output_type": "stream",
     "text": [
      "Ade made a loss of 1900\n"
     ]
    }
   ],
   "source": [
    "#exercise one\n",
    "#Ade bought 8 banana for 800 each two got spoilt and he sold the remaining 6 at 750 each write a program to check if profit was made or lst was made\n",
    "costPrice = (8*800)\n",
    "sellingPrice = (6 * 750)\n",
    "amountWithAde = (costPrice - sellingPrice)\n",
    "if costPrice > sellingPrice:\n",
    "    print(f'Ade made a loss of {amountWithAde}')\n",
    "else: \n",
    "    print(f'Ade made a profit of {-amountWithAde}')"
   ]
  },
  {
   "cell_type": "code",
   "execution_count": 28,
   "metadata": {},
   "outputs": [
    {
     "name": "stdout",
     "output_type": "stream",
     "text": [
      "0 is a zero\n"
     ]
    }
   ],
   "source": [
    "num = int(input('Please provide a number:'))\n",
    "if num > 0: \n",
    "    print(f'{num} is a positive number')\n",
    "else:\n",
    "    if num < 0:\n",
    "        print(f'{num} is a negative number')\n",
    "    else: \n",
    "        print(f'{num} is a zero')\n"
   ]
  },
  {
   "cell_type": "code",
   "execution_count": 31,
   "metadata": {},
   "outputs": [
    {
     "name": "stdout",
     "output_type": "stream",
     "text": [
      "900000000000000000 is a positive number\n"
     ]
    }
   ],
   "source": [
    "num = int(input('Please provide a number:'))\n",
    "if num > 0: \n",
    "    print(f'{num} is a positive number')\n",
    "elif num > 0:\n",
    "    print(f'{num} is a negative number')\n",
    "else:\n",
    "    print(f'{num} is Zero')   "
   ]
  },
  {
   "cell_type": "code",
   "execution_count": 37,
   "metadata": {},
   "outputs": [
    {
     "name": "stdout",
     "output_type": "stream",
     "text": [
      "Your average score in the above subject is 73.75 your grade is A\n"
     ]
    }
   ],
   "source": [
    "sub1 = float(input('MathScore'))\n",
    "sub2 = float(input('EnglishScore'))\n",
    "sub3 = float(input('BiologyScore'))\n",
    "sub4 = float(input('ChemistryScore'))\n",
    "sub5 = float(input('PhysicsScore'))\n",
    "sub6 = float(input('AgricScore'))\n",
    "sub7 = float(input('EconomicsScore'))\n",
    "sub8 = float(input('GeographyScore'))\n",
    "\n",
    "Average_score = sum([sub1,sub2,sub3,sub4,sub5,sub6,sub7,sub8])/8\n",
    "if Average_score >= 70 and Average_score <= 100:\n",
    "    print(f'Your average score in the above subject is {Average_score} your grade is A')\n",
    "elif Average_score >= 60 and Average_score <= 69.99:\n",
    "    print(f'Your average score in the above subject is {Average_score} your grade is B')\n",
    "elif Average_score >= 50 and Average_score <= 59.99:\n",
    "    print(f'Your average score in the above subject is {Average_score} your grade is C')\n",
    "elif Average_score >= 40 and Average_score <= 49.99:\n",
    "    print(f'Your average score in the above subject is {Average_score} your grade is D')\n",
    "elif Average_score >= 31 and Average_score <= 39.99:\n",
    "    print(f'Your average score in the above subject is {Average_score} your grade is E')\n",
    "else:\n",
    "    print(f'Your average score in the above subject is {Average_score} your grade is F')    "
   ]
  },
  {
   "cell_type": "code",
   "execution_count": null,
   "metadata": {},
   "outputs": [],
   "source": [
    "\n"
   ]
  },
  {
   "cell_type": "code",
   "execution_count": null,
   "metadata": {},
   "outputs": [],
   "source": []
  },
  {
   "cell_type": "code",
   "execution_count": null,
   "metadata": {},
   "outputs": [],
   "source": []
  },
  {
   "cell_type": "code",
   "execution_count": null,
   "metadata": {},
   "outputs": [],
   "source": []
  },
  {
   "cell_type": "code",
   "execution_count": null,
   "metadata": {},
   "outputs": [],
   "source": []
  },
  {
   "cell_type": "code",
   "execution_count": null,
   "metadata": {},
   "outputs": [],
   "source": []
  },
  {
   "cell_type": "code",
   "execution_count": null,
   "metadata": {},
   "outputs": [],
   "source": []
  },
  {
   "cell_type": "code",
   "execution_count": null,
   "metadata": {},
   "outputs": [],
   "source": []
  }
 ],
 "metadata": {
  "kernelspec": {
   "display_name": "Python 3.9.13 32-bit",
   "language": "python",
   "name": "python3"
  },
  "language_info": {
   "codemirror_mode": {
    "name": "ipython",
    "version": 3
   },
   "file_extension": ".py",
   "mimetype": "text/x-python",
   "name": "python",
   "nbconvert_exporter": "python",
   "pygments_lexer": "ipython3",
   "version": "3.9.13"
  },
  "orig_nbformat": 4,
  "vscode": {
   "interpreter": {
    "hash": "da3600aafbba33963195a4a73fabd79dc432f3ac3e0a81166894c5c7b51fafd9"
   }
  }
 },
 "nbformat": 4,
 "nbformat_minor": 2
}
