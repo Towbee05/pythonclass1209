{
 "cells": [
  {
   "cell_type": "code",
   "execution_count": 8,
   "metadata": {},
   "outputs": [
    {
     "name": "stdout",
     "output_type": "stream",
     "text": [
      "458.0\n"
     ]
    }
   ],
   "source": [
    "num1 = float(458)\n",
    "print(num1)"
   ]
  },
  {
   "cell_type": "code",
   "execution_count": 6,
   "metadata": {},
   "outputs": [
    {
     "name": "stdout",
     "output_type": "stream",
     "text": [
      "Program to collect three names from user using the input statement\n"
     ]
    }
   ],
   "source": [
    "print(\"Program to collect three names from user using the input statement\") \n",
    "firstName = input()\n",
    "secondName = input()\n",
    "thirdName = input()"
   ]
  },
  {
   "cell_type": "code",
   "execution_count": 16,
   "metadata": {},
   "outputs": [
    {
     "name": "stdout",
     "output_type": "stream",
     "text": [
      "The amount #5000 becomes in three yrs = 5900.0\n"
     ]
    }
   ],
   "source": [
    "principal = 5000\n",
    "rate = 6\n",
    "time = 3\n",
    "interest = (principal * rate * time)/100\n",
    "amount = (principal + interest)\n",
    "print(\"The amount #5000 becomes in three yrs =\" , (amount))\n"
   ]
  },
  {
   "cell_type": "code",
   "execution_count": 3,
   "metadata": {},
   "outputs": [
    {
     "name": "stdout",
     "output_type": "stream",
     "text": [
      "82500.0\n",
      "692500.0\n",
      "7500.0 is needed more by the family\n"
     ]
    }
   ],
   "source": [
    "deposit = 550000\n",
    "rate = 5/100\n",
    "time = 3\n",
    "print((deposit * rate * time))\n",
    "amountAtTheEndOfFirstYear = deposit + (deposit * rate)\n",
    "amountAltogetherAtFirstYrEnd = amountAtTheEndOfFirstYear + 25000\n",
    "amountAtTheEndOfSecondYr = amountAltogetherAtFirstYrEnd + (deposit * rate)\n",
    "amountAltogetherAtSecondYrEnd = amountAtTheEndOfSecondYr + 35000\n",
    "totalSavings = amountAltogetherAtSecondYrEnd + (deposit * rate)\n",
    "print(totalSavings)\n",
    "print(700000 - totalSavings, \"is needed more by the family\" )\n",
    " "
   ]
  },
  {
   "cell_type": "code",
   "execution_count": null,
   "metadata": {},
   "outputs": [],
   "source": []
  }
 ],
 "metadata": {
  "kernelspec": {
   "display_name": "Python 3.9.13 32-bit",
   "language": "python",
   "name": "python3"
  },
  "language_info": {
   "codemirror_mode": {
    "name": "ipython",
    "version": 3
   },
   "file_extension": ".py",
   "mimetype": "text/x-python",
   "name": "python",
   "nbconvert_exporter": "python",
   "pygments_lexer": "ipython3",
   "version": "3.9.13"
  },
  "orig_nbformat": 4,
  "vscode": {
   "interpreter": {
    "hash": "da3600aafbba33963195a4a73fabd79dc432f3ac3e0a81166894c5c7b51fafd9"
   }
  }
 },
 "nbformat": 4,
 "nbformat_minor": 2
}
