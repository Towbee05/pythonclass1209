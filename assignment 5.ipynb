{
 "cells": [
  {
   "cell_type": "code",
   "execution_count": 1,
   "metadata": {},
   "outputs": [],
   "source": [
    "# Create a class called BMI having the following attribute\n",
    "\n",
    "#1.Name, Country, Gender, Age, Weight, Height\n",
    "\n",
    "# With the following Method\n",
    "\n",
    "# 1.Details, A condition to state the price per Continent, To calculate the original body mass index\n",
    "\n",
    " "
   ]
  },
  {
   "cell_type": "code",
   "execution_count": 1,
   "metadata": {},
   "outputs": [
    {
     "name": "stdout",
     "output_type": "stream",
     "text": [
      "\n",
      "        NAME: SEGUN\n",
      "        COUNTRY: Nigeria\n",
      "        AGE: 17\n",
      "        WEIGHT: 120.0\n",
      "        HEIGHT: 15.0\n",
      "        \n",
      "None\n",
      "SEGUN weighs 120.0kg\n",
      "SEGUN is 15.0m tall\n",
      "Your BMI is 0.5333333333333333\n",
      "SEGUN,you a underweight as your BMI is 0.5333333333333333\n",
      "None\n"
     ]
    }
   ],
   "source": [
    "# 1\n",
    "class BMI:\n",
    "    def __init__(self, name, country, age, weight, height):\n",
    "        self.name = input(name)\n",
    "        self.country = input(country)\n",
    "        self.age = int(input(age))\n",
    "        self.weight = float(input(weight))\n",
    "        self.height = float(input(height))\n",
    "    def details(self):\n",
    "        print(f'''\n",
    "        NAME: {self.name}\n",
    "        COUNTRY: {self.country}\n",
    "        AGE: {self.age}\n",
    "        WEIGHT: {self.weight}\n",
    "        HEIGHT: {self.height}\n",
    "        ''')\n",
    "    def BMI(self):\n",
    "        weight_2 = self.weight\n",
    "        print(f'{self.name} weighs {weight_2}kg')\n",
    "        if weight_2 <= 0:\n",
    "            print('INVALID INPUT!!!')\n",
    "        height_2 = self.height   \n",
    "        print(f'{self.name} is {height_2}m tall')\n",
    "        if height_2 <= 0:\n",
    "            print('INVALID INPUT!!!!')\n",
    "        BMI_1 = (weight_2/(height_2**2))\n",
    "        print(f'Your BMI is {BMI_1}')\n",
    "        if BMI_1 < 18.5:\n",
    "            print(f'{self.name},you a underweight as your BMI is {BMI_1}')\n",
    "        elif 18.5 < BMI_1 < 24.9:\n",
    "            print(f'{self.name}, you a Healthy and normal as your BMI is {BMI_1}')\n",
    "        elif 25.0 < BMI_1 < 29.9:\n",
    "            print(f'{self.name}, you are overweight as your BIM is {BMI_1}')\n",
    "        elif BMI_1 <= 30.0:\n",
    "            print(f'{self.name}, you are obese and need medical attendance as your BMI is {BMI_1}')    \n",
    "bodymassindex = BMI('Pls input name', 'Input Country', 'Input age', 'Input weight','Input height' )\n",
    "print(bodymassindex.details())\n",
    "print(bodymassindex.BMI())\n"
   ]
  },
  {
   "cell_type": "code",
   "execution_count": 36,
   "metadata": {},
   "outputs": [],
   "source": [
    "# NUMBER TWO\n",
    "\n",
    "# Create a class Marvel Character with the following attribute\n",
    "\n",
    "# 1.Name, origin, dob, main power, other power\n",
    "\n",
    "# With the following Method\n",
    "\n",
    "# 1.Deatils, and a method to return the character age\n",
    "\n",
    "\n",
    " "
   ]
  },
  {
   "cell_type": "code",
   "execution_count": 1,
   "metadata": {},
   "outputs": [
    {
     "name": "stdout",
     "output_type": "stream",
     "text": [
      " Chris hemsworth is a very important figure in the MCU.\n",
      " Chris hemsworth was born at Melbourne Australia in 11 August 1983 and he is considered the \n",
      " strongest character in the avengers. \n",
      " He is considered the God of lightning because Lightning is his mainpower and  Mjolnir, flight,super strenght are his other powers\n",
      "None\n",
      "39yrs\n",
      "None\n"
     ]
    }
   ],
   "source": [
    "# 2\n",
    "class MarvelCharacter:\n",
    "    def __init__(self, name, origin, dob, mainpower, otherpower):\n",
    "        self.name = name\n",
    "        self.origin = origin\n",
    "        self.dob = dob\n",
    "        self.mainpower = mainpower\n",
    "        self.otherpower = otherpower\n",
    "    def details(self):\n",
    "        print(f' {self.name} is a very important figure in the MCU.\\n {self.name} was born at {self.origin} in {self.dob} and he is considered the \\n strongest character in the avengers. \\n He is considered the God of lightning because {self.mainpower} is his mainpower and  {self.otherpower} are his other powers')\n",
    "    def age(self):\n",
    "        print('39yrs')\n",
    "character = MarvelCharacter('Chris hemsworth', 'Melbourne Australia', '11 August 1983', 'Lightning', 'Mjolnir, flight,super strenght')\n",
    "print(character.details())\n",
    "print(character.age())"
   ]
  },
  {
   "cell_type": "code",
   "execution_count": 8,
   "metadata": {},
   "outputs": [
    {
     "name": "stdout",
     "output_type": "stream",
     "text": [
      "Honda Supercub's simulation starts\n",
      "None\n",
      "Gear 2\n",
      "None\n",
      "Nitro *1, speed increases\n",
      "None\n",
      "To apply brakes, kindly hit the clutch\n",
      "None\n",
      "Honda Supercub 's simultaion has ended\n",
      "None\n"
     ]
    }
   ],
   "source": [
    "# 3\n",
    "class bike_simulator:\n",
    "    def __init__(self, brand, model, modelyear, color):\n",
    "        self.brand = brand\n",
    "        self.model= model\n",
    "        self.modelyear = modelyear \n",
    "        self.color = color\n",
    "    def start(self):\n",
    "        print(f\"{self.brand} {self.model}'s simulation starts\")\n",
    "    def gear(self):\n",
    "        gr = int(input('Select gear number here!!'))\n",
    "        if gr == 1:\n",
    "            print('Gear 1')\n",
    "        elif gr -- 2:\n",
    "            print(\"Gear 2\")\n",
    "        elif gr == 3:\n",
    "            print('Gear 3')\n",
    "        elif gr == 4:\n",
    "            print('Gear 4')\n",
    "        elif gr  == 5:\n",
    "            print('Gear 5')\n",
    "        elif gr ==6:\n",
    "            print('Gear 6')\n",
    "        else:\n",
    "            print('INVALID GEAR OPTION')\n",
    "    def nitro(self):\n",
    "        nitro_1 = int(input('Select Nitro option'))\n",
    "        if nitro_1  == 1:\n",
    "            print('Nitro *1, speed increases')\n",
    "        elif nitro_1  == 2:\n",
    "            print('Nitro *2, speed increases')\n",
    "        elif nitro_1  == 3:\n",
    "            print('Nitro *1, speed increases')\n",
    "        elif nitro_1 ==4:\n",
    "            print('Nitro down!!')\n",
    "        else:\n",
    "            print('INVALID NITRO OPTION!!!!1')\n",
    "    def brakes(self):\n",
    "        print('To apply brakes, kindly hit the clutch')\n",
    "    def stop(self):\n",
    "        print(f'{self.brand} {self.model} \\'s simultaion has ended')\n",
    "\n",
    "bike = bike_simulator('Honda', 'Supercub',2016, 'Red' )\n",
    "print(bike.start())\n",
    "print(bike.gear())\n",
    "print(bike.nitro())\n",
    "print(bike.brakes())\n",
    "print(bike.stop())"
   ]
  },
  {
   "cell_type": "code",
   "execution_count": null,
   "metadata": {},
   "outputs": [],
   "source": []
  }
 ],
 "metadata": {
  "kernelspec": {
   "display_name": "Python 3.9.13 32-bit",
   "language": "python",
   "name": "python3"
  },
  "language_info": {
   "codemirror_mode": {
    "name": "ipython",
    "version": 3
   },
   "file_extension": ".py",
   "mimetype": "text/x-python",
   "name": "python",
   "nbconvert_exporter": "python",
   "pygments_lexer": "ipython3",
   "version": "3.9.13"
  },
  "orig_nbformat": 4,
  "vscode": {
   "interpreter": {
    "hash": "da3600aafbba33963195a4a73fabd79dc432f3ac3e0a81166894c5c7b51fafd9"
   }
  }
 },
 "nbformat": 4,
 "nbformat_minor": 2
}
