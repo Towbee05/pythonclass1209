{
 "cells": [
  {
   "cell_type": "code",
   "execution_count": 1,
   "id": "8d013db2",
   "metadata": {},
   "outputs": [],
   "source": [
    "import pymysql"
   ]
  },
  {
   "cell_type": "code",
   "execution_count": 2,
   "id": "2ab54278",
   "metadata": {},
   "outputs": [],
   "source": [
    "mydb = pymysql.connect(\n",
    "    host = \"localhost\",\n",
    "    user = \"root\",\n",
    "    password = \"oluwaSogo_05\",\n",
    "    database = \"schoolrecordmanagementsystem\")\n",
    "mycursor = mydb.cursor()"
   ]
  },
  {
   "cell_type": "code",
   "execution_count": 3,
   "id": "58b76f62",
   "metadata": {},
   "outputs": [
    {
     "name": "stdout",
     "output_type": "stream",
     "text": [
      "(247,)\n"
     ]
    }
   ],
   "source": [
    "mycursor.execute('select count(famsize) from studentper')\n",
    "for i in mycursor:\n",
    "    print(i)"
   ]
  },
  {
   "cell_type": "code",
   "execution_count": 6,
   "id": "9aabbcc0",
   "metadata": {},
   "outputs": [
    {
     "name": "stdout",
     "output_type": "stream",
     "text": [
      "(131,)\n"
     ]
    }
   ],
   "source": [
    "mycursor.execute('select count(*) from studentper where emotions = 2')\n",
    "for i in mycursor:\n",
    "    print(i)"
   ]
  },
  {
   "cell_type": "code",
   "execution_count": 13,
   "id": "6c3e088b",
   "metadata": {},
   "outputs": [
    {
     "name": "stdout",
     "output_type": "stream",
     "text": [
      "(6,)\n"
     ]
    }
   ],
   "source": [
    "mycursor.execute('select count(distinct (age)) from studentper')\n",
    "for i in mycursor:\n",
    "    print(i)"
   ]
  },
  {
   "cell_type": "code",
   "execution_count": 14,
   "id": "a93363ff",
   "metadata": {},
   "outputs": [
    {
     "name": "stdout",
     "output_type": "stream",
     "text": [
      "(13, 'M', 'OTHER', 'OTHER', 84)\n",
      "(12, 'F', 'at_home', 'OTHER', 69)\n",
      "(11, 'F', 'HEALTH', 'ADMIN', 17)\n",
      "(14, 'M', 'ADMIN', 'OTHER', 57)\n",
      "(10, 'M', 'ADMIN', 'TEACHER', 6)\n",
      "(15, 'F', 'HEALTH', 'ADMIN', 14)\n"
     ]
    }
   ],
   "source": [
    "mycursor.execute('select age, sex, Mjob, Fjob, count(*) from studentper group by age' )\n",
    "for i in mycursor:\n",
    "    print(i)"
   ]
  },
  {
   "cell_type": "code",
   "execution_count": 16,
   "id": "4a7f90ea",
   "metadata": {},
   "outputs": [
    {
     "name": "stdout",
     "output_type": "stream",
     "text": [
      "(Decimal('17127'),)\n"
     ]
    }
   ],
   "source": [
    "mycursor.execute('select sum(JS11st) from studentper')\n",
    "for i in mycursor:\n",
    "    print(i)"
   ]
  },
  {
   "cell_type": "code",
   "execution_count": 19,
   "id": "54e71e32",
   "metadata": {},
   "outputs": [
    {
     "name": "stdout",
     "output_type": "stream",
     "text": [
      "(Decimal('4884'),)\n"
     ]
    }
   ],
   "source": [
    "mycursor.execute('select sum(JS11st) from studentper where age >= 14')\n",
    "for i in mycursor:\n",
    "    print(i)"
   ]
  },
  {
   "cell_type": "code",
   "execution_count": 20,
   "id": "1af0ce94",
   "metadata": {},
   "outputs": [
    {
     "name": "stdout",
     "output_type": "stream",
     "text": [
      "(Decimal('1092'),)\n",
      "(Decimal('828'),)\n",
      "(Decimal('187'),)\n",
      "(Decimal('798'),)\n",
      "(Decimal('60'),)\n",
      "(Decimal('210'),)\n"
     ]
    }
   ],
   "source": [
    "mycursor.execute('select sum(age) from studentper group by age')\n",
    "for i in mycursor:\n",
    "    print(i)"
   ]
  },
  {
   "cell_type": "code",
   "execution_count": 21,
   "id": "c2a5570f",
   "metadata": {},
   "outputs": [
    {
     "name": "stdout",
     "output_type": "stream",
     "text": [
      "(13, 'OTHER', Decimal('5933'))\n",
      "(12, 'OTHER', Decimal('4804'))\n",
      "(11, 'ADMIN', Decimal('1147'))\n",
      "(14, 'OTHER', Decimal('4063'))\n",
      "(10, 'TEACHER', Decimal('399'))\n",
      "(15, 'ADMIN', Decimal('973'))\n"
     ]
    }
   ],
   "source": [
    "mycursor.execute('select age, Fjob, sum(JS12nd) from studentper group by age')\n",
    "for i in mycursor:\n",
    "    print(i)"
   ]
  },
  {
   "cell_type": "code",
   "execution_count": 22,
   "id": "241ae586",
   "metadata": {},
   "outputs": [
    {
     "name": "stdout",
     "output_type": "stream",
     "text": [
      "('OTHER', Decimal('3647'))\n",
      "('HEALTH', Decimal('1485'))\n",
      "('POLICE', Decimal('326'))\n",
      "('TEACHER', Decimal('3099'))\n",
      "('ADMIN', Decimal('5643'))\n",
      "('HEALTH RELATED', Decimal('384'))\n",
      "('HOME ', Decimal('420'))\n",
      "('TRADER', Decimal('351'))\n",
      "('NURSE', Decimal('364'))\n",
      "('SURVEYOR', Decimal('356'))\n",
      "('CLEANER', Decimal('279'))\n",
      "('FARMER', Decimal('293'))\n",
      "('BUSINESS', Decimal('672'))\n"
     ]
    }
   ],
   "source": [
    "mycursor.execute('select Fjob, sum(JS12nd) from studentper group by Fjob')\n",
    "for i in mycursor:\n",
    "    print(i)"
   ]
  },
  {
   "cell_type": "code",
   "execution_count": 24,
   "id": "27421ef1",
   "metadata": {},
   "outputs": [
    {
     "name": "stdout",
     "output_type": "stream",
     "text": [
      "(Decimal('69.0648'),)\n"
     ]
    }
   ],
   "source": [
    "mycursor.execute('select avg(JS31st) from studentper')\n",
    "for i in mycursor:\n",
    "    print(i)"
   ]
  },
  {
   "cell_type": "code",
   "execution_count": 25,
   "id": "4488ebd6",
   "metadata": {},
   "outputs": [
    {
     "name": "stdout",
     "output_type": "stream",
     "text": [
      "(Decimal('66.7647'),)\n"
     ]
    }
   ],
   "source": [
    "mycursor.execute('select avg(JS31st) from studentper where age = 11')\n",
    "for i in mycursor:\n",
    "    print(i)"
   ]
  },
  {
   "cell_type": "code",
   "execution_count": 26,
   "id": "cacb5903",
   "metadata": {},
   "outputs": [
    {
     "name": "stdout",
     "output_type": "stream",
     "text": [
      "(13, Decimal('71.3690'))\n",
      "(12, Decimal('70.1304'))\n",
      "(11, Decimal('68.0588'))\n",
      "(14, Decimal('70.7719'))\n",
      "(10, Decimal('68.5000'))\n",
      "(15, Decimal('69.7143'))\n"
     ]
    }
   ],
   "source": [
    "mycursor.execute('select age, avg(JS32nd) from studentper group by age')\n",
    "for i in mycursor:\n",
    "    print(i)"
   ]
  },
  {
   "cell_type": "code",
   "execution_count": 27,
   "id": "1bdc5575",
   "metadata": {},
   "outputs": [
    {
     "name": "stdout",
     "output_type": "stream",
     "text": [
      "(15,)\n"
     ]
    }
   ],
   "source": [
    "mycursor.execute('select max(age) from studentper')\n",
    "for i in mycursor:\n",
    "    print(i)"
   ]
  },
  {
   "cell_type": "code",
   "execution_count": 29,
   "id": "a319c716",
   "metadata": {},
   "outputs": [
    {
     "name": "stdout",
     "output_type": "stream",
     "text": [
      "(15,)\n"
     ]
    }
   ],
   "source": [
    "mycursor.execute('select max(age) from studentper where JS11st >= 85')\n",
    "for i in mycursor:\n",
    "    print(i)"
   ]
  },
  {
   "cell_type": "code",
   "execution_count": 31,
   "id": "7190aa17",
   "metadata": {},
   "outputs": [
    {
     "name": "stdout",
     "output_type": "stream",
     "text": [
      "('OTHER', 15)\n",
      "('at_home', 12)\n",
      "('TEACHER', 14)\n",
      "('CIVIL SERVANT', 12)\n",
      "('ADMIN', 14)\n",
      "('HEALTH', 15)\n",
      "('POLICE', 14)\n",
      "('CRAFT', 14)\n",
      "('BUSINESS', 14)\n",
      "('FARMER', 14)\n"
     ]
    }
   ],
   "source": [
    "mycursor.execute('select Mjob,max(age) from studentper group by Mjob')\n",
    "for i in mycursor:\n",
    "    print(i)"
   ]
  },
  {
   "cell_type": "code",
   "execution_count": 32,
   "id": "bf49cc5a",
   "metadata": {},
   "outputs": [
    {
     "name": "stdout",
     "output_type": "stream",
     "text": [
      "('OTHER', 12)\n",
      "('at_home', 12)\n",
      "('TEACHER', 11)\n",
      "('CIVIL SERVANT', 10)\n",
      "('ADMIN', 10)\n",
      "('HEALTH', 11)\n",
      "('POLICE', 13)\n",
      "('CRAFT', 13)\n",
      "('BUSINESS', 13)\n",
      "('FARMER', 13)\n"
     ]
    }
   ],
   "source": [
    "mycursor.execute('select Mjob,min(age) from studentper group by Mjob')\n",
    "for i in mycursor:\n",
    "    print(i)"
   ]
  },
  {
   "cell_type": "code",
   "execution_count": 33,
   "id": "b7e6cf31",
   "metadata": {},
   "outputs": [
    {
     "name": "stdout",
     "output_type": "stream",
     "text": [
      "('M', 13, 'RURAL', 'GT3', 'T', 1, 0, 'OTHER', 'OTHER', 'mother', 3, 2, 'no', 4, 'no', 1, 'yes', 'yes', 'no', 68, 69, 70, 71, 72, 69, 72, 70)\n"
     ]
    }
   ],
   "source": [
    "mycursor.execute('select * from studentper limit 1')\n",
    "for i in mycursor:\n",
    "    print(i)"
   ]
  },
  {
   "cell_type": "code",
   "execution_count": 37,
   "id": "2d45ae6d",
   "metadata": {},
   "outputs": [
    {
     "name": "stdout",
     "output_type": "stream",
     "text": [
      "('M', 15, 'URBAN', 'LE3', 'A', 1, 0, 'OTHER', 'ADMIN', 'mother', 1, 0, 'no', 5, 'yes', 2, 'yes', 'no', 'no', 66, 76, 87, 82, 85, 69, 68, 81)\n"
     ]
    }
   ],
   "source": [
    "mycursor.execute('select * from studentper order by age desc limit 1')\n",
    "for i in mycursor:\n",
    "    print(i)"
   ]
  },
  {
   "cell_type": "code",
   "execution_count": null,
   "id": "5c8663fe",
   "metadata": {},
   "outputs": [],
   "source": []
  }
 ],
 "metadata": {
  "kernelspec": {
   "display_name": "Python 3.9.12 ('base')",
   "language": "python",
   "name": "python3"
  },
  "language_info": {
   "codemirror_mode": {
    "name": "ipython",
    "version": 3
   },
   "file_extension": ".py",
   "mimetype": "text/x-python",
   "name": "python",
   "nbconvert_exporter": "python",
   "pygments_lexer": "ipython3",
   "version": "3.9.12"
  },
  "vscode": {
   "interpreter": {
    "hash": "263930470851f494f0ed2879c35b57985588df20f9e529b86e97dd5eb9ddc466"
   }
  }
 },
 "nbformat": 4,
 "nbformat_minor": 5
}
