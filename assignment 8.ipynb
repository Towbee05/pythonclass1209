{
 "cells": [
  {
   "cell_type": "code",
   "execution_count": 2,
   "id": "69544f46",
   "metadata": {},
   "outputs": [],
   "source": [
    "import pymysql"
   ]
  },
  {
   "cell_type": "code",
   "execution_count": 3,
   "id": "3697dc83",
   "metadata": {},
   "outputs": [],
   "source": [
    "mydb = pymysql.connect(\n",
    "    host = \"localhost\",\n",
    "    user = \"root\",\n",
    "    password = \"oluwaSogo_05\")\n",
    "mycursor = mydb.cursor()"
   ]
  },
  {
   "cell_type": "code",
   "execution_count": 6,
   "id": "e37a289e",
   "metadata": {},
   "outputs": [
    {
     "data": {
      "text/plain": [
       "1"
      ]
     },
     "execution_count": 6,
     "metadata": {},
     "output_type": "execute_result"
    }
   ],
   "source": [
    "mycursor.execute(\"CREATE DATABASE storemanagementdatabasesystem_2\")"
   ]
  },
  {
   "cell_type": "code",
   "execution_count": null,
   "id": "08bc7024",
   "metadata": {},
   "outputs": [],
   "source": []
  },
  {
   "cell_type": "code",
   "execution_count": 5,
   "id": "550b78dc",
   "metadata": {},
   "outputs": [],
   "source": [
    "mydb = pymysql.connect(\n",
    "    host = 'localhost',\n",
    "    user = 'root',\n",
    "    password = 'oluwaSogo_05',\n",
    "    database = \"storemanagementdatabasesystem_2\"\n",
    ")\n",
    "mycursor = mydb.cursor()"
   ]
  },
  {
   "cell_type": "code",
   "execution_count": 5,
   "id": "36f6f1c5",
   "metadata": {},
   "outputs": [
    {
     "data": {
      "text/plain": [
       "3"
      ]
     },
     "execution_count": 5,
     "metadata": {},
     "output_type": "execute_result"
    }
   ],
   "source": [
    "mycursor.execute(\"show tables\")"
   ]
  },
  {
   "cell_type": "code",
   "execution_count": 11,
   "id": "b4991ca5",
   "metadata": {},
   "outputs": [
    {
     "data": {
      "text/plain": [
       "0"
      ]
     },
     "execution_count": 11,
     "metadata": {},
     "output_type": "execute_result"
    }
   ],
   "source": [
    "mycursor.execute(\"CREATE TABLE electronic_details(storeidnumber int not null, itemName VARCHAR(255), itemSerialNumber int not null, itemType VARCHAR(255), itemBrand VARCHAR(255), itemQuantity int not null )\")"
   ]
  },
  {
   "cell_type": "code",
   "execution_count": 16,
   "id": "b72f81e7",
   "metadata": {},
   "outputs": [],
   "source": [
    "sql = \"insert electronic_details(storeidnumber, itemName, itemSerialNumber, itemType, itemBrand, itemQuantity) values(%s,%s,%s,%s,%s,%s) \"\n",
    "values = [(1,'LG Television', 1,'Television', 'LG',16 ),\n",
    "         (2,'GenPal inverter AC', 2,'Air Conditioner', 'Haier Thermocool',13 ),\n",
    "         (3,'Edifier M206BT', 3,'Bluetooth Multimedia speaker', 'Edifier',20 ),\n",
    "         (4,'UA55AU88100 55 inches smart Television', 4,'Television', 'Samsung',20 ),\n",
    "         (5,'Polystar 45 inches TV', 5,'Television', 'Polystar',20),\n",
    "         (6,'LG bottom freezer', 6,'Refrigerator', 'LG', 16 ),\n",
    "         (7,'Front load washing machine', 7,'Washing machine', 'LG',22 ),\n",
    "         (8,'Sumec Firman 4.5keystart', 8,'Generator', 'Sumec Firman',30 ),\n",
    "         (9, 'Sony MHC-V13 speaker', 9, 'Speaker', 'Sony',12),\n",
    "         (10, 'LG Dualcool inverter', 10, 'Air Conditioner', 'LG', 16)]\n",
    "mycursor.executemany(sql,values) \n",
    "mydb.commit()"
   ]
  },
  {
   "cell_type": "code",
   "execution_count": 13,
   "id": "6e62962c",
   "metadata": {},
   "outputs": [
    {
     "data": {
      "text/plain": [
       "1"
      ]
     },
     "execution_count": 13,
     "metadata": {},
     "output_type": "execute_result"
    }
   ],
   "source": [
    " mycursor.execute(\"show tables\")"
   ]
  },
  {
   "cell_type": "code",
   "execution_count": 14,
   "id": "62a90aa3",
   "metadata": {},
   "outputs": [
    {
     "data": {
      "text/plain": [
       "0"
      ]
     },
     "execution_count": 14,
     "metadata": {},
     "output_type": "execute_result"
    }
   ],
   "source": [
    "mycursor.execute(\"create table wear_details(storeidnumber int not null, itemName VARCHAR(255), itemSerialNumber int not null, itemType VARCHAR(255), itemBrand VARCHAR(255), itemQuantity int not null )\")"
   ]
  },
  {
   "cell_type": "code",
   "execution_count": 15,
   "id": "b6ff7434",
   "metadata": {},
   "outputs": [],
   "source": [
    "sql_2 = \"insert wear_details(storeidnumber, itemName, itemSerialNumber, itemType, itemBrand, itemQuantity) values(%s,%s,%s,%s,%s,%s)\"\n",
    "values_2 = [(1,'Nike Air Max Sunder', 11,'Shoe', 'Nike',30),\n",
    "            (2, 'Corset Mini Dress', 12, \"Gown\", 'Versace',5),\n",
    "            (3, 'Odissea sneakers', 13, 'Shoe', 'Versace', 7),\n",
    "            (4, 'CD Diamond S3F', 14, 'Eyeglasses', 'Dior', 30),\n",
    "            (5, 'Air jordan 1 low', 15, 'Shoe', 'Nike', 15),\n",
    "            (6, 'LV Dermin cap', 16, 'Cap', 'Louis Vuition', 42),\n",
    "            (7,'Saint Lauret', 17, 'Bag', 'Gucci', 32),\n",
    "            (8, 'Pillow sneakers', 18, 'Shoe', 'Bottega veneta', 16),\n",
    "            (9, 'Miu miu', 19, 'Bag', 'Gucci', 35),\n",
    "            (10, 'Jacquard Greca Signature Jacket', 20, 'Jacket', 'Versace', 43)]\n",
    "mycursor.executemany(sql_2,values_2)\n",
    "mydb.commit()"
   ]
  },
  {
   "cell_type": "code",
   "execution_count": 17,
   "id": "542bbb91",
   "metadata": {},
   "outputs": [
    {
     "data": {
      "text/plain": [
       "2"
      ]
     },
     "execution_count": 17,
     "metadata": {},
     "output_type": "execute_result"
    }
   ],
   "source": [
    "mycursor.execute('show tables')"
   ]
  },
  {
   "cell_type": "code",
   "execution_count": 19,
   "id": "1f340421",
   "metadata": {},
   "outputs": [
    {
     "data": {
      "text/plain": [
       "0"
      ]
     },
     "execution_count": 19,
     "metadata": {},
     "output_type": "execute_result"
    }
   ],
   "source": [
    "mycursor.execute('create table phone_details(storeidnumber int not null, itemName VARCHAR(255), itemSerialNumber int not null, itemType VARCHAR(255), itemBrand VARCHAR(255), itemQuantity int not null)')"
   ]
  },
  {
   "cell_type": "code",
   "execution_count": 20,
   "id": "d5cdcc45",
   "metadata": {},
   "outputs": [],
   "source": [
    "sql_3 = \"insert phone_details(storeidnumber, itemName, itemSerialNumber, itemType, itemBrand, itemQuantity) values(%s,%s,%s,%s,%s,%s)\"\n",
    "values_3 = [(1, 'Samsung Galaxy S22 Ultra', 21, 'Andriod Phone', 'Samsung', 50 ),\n",
    "            (2, 'Iphone 13 pro max', 22, 'IOS Phone', 'Apple', 54),\n",
    "            (3, 'Infinix Hot 10 Play', 23, 'Andriod Phone', 'Infinix',60),\n",
    "            (4, 'Redmi Hot 10', 24, 'Andriod Phone', 'Redmi', 100),\n",
    "            (5, 'Iphone XS Max', 25, 'IOS phone', 'Apple', 60),\n",
    "            (6, 'Pixel 6 pro', 26, 'Andriod Phone', 'Google', 72),\n",
    "            (7, 'Samsung Galaxy A20s', 27, 'Andriod Phone', 'Samsung', 60),\n",
    "            (8, 'Xiaomi Poco C40', 28, 'Andriod Phone', 'Xiaomi', 52),\n",
    "            (9, 'Lenovo XiaoXin Pad', 29, 'Andriod Tablet', 'Lenovo', 40),\n",
    "            (10, 'Samsung Galaxy A13', 30, 'Andriod Phone', 'Samsung', 50)\n",
    "           ]\n",
    "mycursor.executemany(sql_3,values_3)\n",
    "mydb.commit()"
   ]
  },
  {
   "cell_type": "code",
   "execution_count": 22,
   "id": "db43ef4d",
   "metadata": {},
   "outputs": [
    {
     "data": {
      "text/plain": [
       "3"
      ]
     },
     "execution_count": 22,
     "metadata": {},
     "output_type": "execute_result"
    }
   ],
   "source": [
    "mycursor.execute(\"show tables\")"
   ]
  },
  {
   "cell_type": "code",
   "execution_count": null,
   "id": "5388bd18",
   "metadata": {},
   "outputs": [],
   "source": []
  },
  {
   "cell_type": "code",
   "execution_count": 6,
   "id": "d51ebb38",
   "metadata": {},
   "outputs": [
    {
     "data": {
      "text/plain": [
       "3"
      ]
     },
     "execution_count": 6,
     "metadata": {},
     "output_type": "execute_result"
    }
   ],
   "source": [
    "mycursor.execute(\"show tables\")"
   ]
  },
  {
   "cell_type": "code",
   "execution_count": 7,
   "id": "2bacf7f8",
   "metadata": {},
   "outputs": [
    {
     "data": {
      "text/plain": [
       "0"
      ]
     },
     "execution_count": 7,
     "metadata": {},
     "output_type": "execute_result"
    }
   ],
   "source": [
    "mycursor.execute(\"create table computer_details(storeidnumber int not null, itemName VARCHAR(255), itemSerialNumber int not null, itemType VARCHAR(255), itemBrand VARCHAR(255), itemQuantity int not null)\")"
   ]
  },
  {
   "cell_type": "code",
   "execution_count": 9,
   "id": "00269cc9",
   "metadata": {},
   "outputs": [],
   "source": [
    "sql_4 = \"insert phone_details(storeidnumber, itemName, itemSerialNumber, itemType, itemBrand, itemQuantity) values(%s,%s,%s,%s,%s,%s)\"\n",
    "values_4 = [(1, 'Alienware M15 R7', 31, 'PC', 'Dell', 40),\n",
    "            (2, 'OMEN Gaming laptop', 32, 'PC', 'HP', 45 ),\n",
    "            (3, 'Swift 3 Intel', 33, 'PC', 'Acer', 30),\n",
    "            (4, 'HP V22ve G5 FHD', 34, 'Monitor', 'HP', 55),\n",
    "            (5, 'ConceptD 5', 35, 'PC', 'Acer',40 ),\n",
    "            (6, 'Galaxy Book Odyssey', 36, 'PC', 'Samsung', 60),\n",
    "            (7, 'Veriton Z', 37, 'Desktop', 'Acer',40),\n",
    "            (8, 'Alienware X15 R2', 38, 'PC', 'Dell', 50),\n",
    "            (9, 'MacBook Air', 39, 'PC', 'Apple', 35),\n",
    "            (10, 'AIO 500 Series', 40, 'Desktop','Lenovo' ,55)]\n",
    "mycursor.executemany(sql_4, values_4)\n",
    "mydb.commit()"
   ]
  },
  {
   "cell_type": "code",
   "execution_count": null,
   "id": "f9d26ca8",
   "metadata": {},
   "outputs": [],
   "source": []
  }
 ],
 "metadata": {
  "kernelspec": {
   "display_name": "Python 3 (ipykernel)",
   "language": "python",
   "name": "python3"
  },
  "language_info": {
   "codemirror_mode": {
    "name": "ipython",
    "version": 3
   },
   "file_extension": ".py",
   "mimetype": "text/x-python",
   "name": "python",
   "nbconvert_exporter": "python",
   "pygments_lexer": "ipython3",
   "version": "3.9.12"
  }
 },
 "nbformat": 4,
 "nbformat_minor": 5
}
