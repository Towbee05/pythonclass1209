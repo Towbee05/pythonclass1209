{
 "cells": [
  {
   "cell_type": "code",
   "execution_count": 16,
   "metadata": {},
   "outputs": [
    {
     "name": "stdout",
     "output_type": "stream",
     "text": [
      "Your salary is 63000.0\n"
     ]
    }
   ],
   "source": [
    "#1\n",
    "salaryEarned = int(input(\"Input your yealy salary please!\"))\n",
    "yearOfService = int(input(\"Pls input your year of service\"))\n",
    "if salaryEarned < 0:\n",
    "        print(\"Pls enter a positive integer\")\n",
    "else:\n",
    "    if yearOfService < 0:\n",
    "        print(\"Enter a positive year\")\n",
    "    else:\n",
    "        if  yearOfService >5 :\n",
    "             salaryEarned2 = (salaryEarned + (5/100 * salaryEarned))\n",
    "             print(f'Your salary is {salaryEarned2}')\n",
    "        else:\n",
    "             print(f' Your salary is {salaryEarned}')\n",
    "   \n",
    "\n",
    "\n"
   ]
  },
  {
   "cell_type": "code",
   "execution_count": 15,
   "metadata": {},
   "outputs": [
    {
     "name": "stdout",
     "output_type": "stream",
     "text": [
      "100 is greater than 90\n"
     ]
    }
   ],
   "source": [
    "#2\n",
    "int1 = int(input(\"Input an integer please\"))\n",
    "int2 = int(input(\"Input an integer please\"))\n",
    "if int1 > int2:\n",
    "    print(f'{int1} is greater than {int2} ')\n",
    "elif int2 > int1:\n",
    "    print(f'{int2} is greater than {int1}')\n",
    "else:\n",
    "    print(f'{int1} is equal to {int2}')"
   ]
  },
  {
   "cell_type": "code",
   "execution_count": 46,
   "metadata": {},
   "outputs": [
    {
     "name": "stdout",
     "output_type": "stream",
     "text": [
      "60 is the oldest\n",
      "1 is the youngest\n"
     ]
    }
   ],
   "source": [
    "#3\n",
    "age1 = int(input(\"Input Your Age\"))\n",
    "age2 = int(input(\"Input Your Age\"))\n",
    "age3 = int(input(\"Input Your Age\"))\n",
    "if age1 < 0 or age2 < 0 or age3 < 0:\n",
    "    print(\"Pls enter a positive age\")\n",
    "else:\n",
    "    if age1 > age2 and age1 > age3:\n",
    "        print(f'{age1} is the oldeset')\n",
    "    elif age1 < age2 and age2 > age3:\n",
    "        print(f'{age2} is the oldest')\n",
    "    elif age3 > age1 and age3 > age2:\n",
    "        print(f'{age3} is the oldest')\n",
    "if age1 < age2 and age3:\n",
    "            print(f'{age1} is the youngest')\n",
    "elif age2 < age3 and age1:\n",
    "            print(f'{age2} is the youngest') \n",
    "elif age3 < age1 and age2:\n",
    "            print(f'{age3} is the youngest')       \n",
    "\n"
   ]
  },
  {
   "cell_type": "code",
   "execution_count": 23,
   "metadata": {},
   "outputs": [
    {
     "name": "stdout",
     "output_type": "stream",
     "text": [
      "Number of class attended should be lesser than number of class held\n"
     ]
    }
   ],
   "source": [
    "#4\n",
    "numberOfClassesHeld = int(input(\"Enter the number of classes held\"))\n",
    "numberOfClassesAttended = int(input(\"Enter the number of classes attended\"))\n",
    "percentage = ((numberOfClassesAttended/numberOfClassesHeld)* 100)\n",
    "if numberOfClassesAttended > numberOfClassesHeld:\n",
    "    print(\"Number of class attended should be lesser than number of class held\")\n",
    "elif percentage < 0:\n",
    "    print('Pls enter a positive integer')\n",
    "elif percentage < 75:\n",
    "    print(f'Your attendance is {percentage}%, you are not allowed for this exam ')\n",
    "else: \n",
    "    print(f'Your attendance is {percentage}%, you are allowed for this exam' )"
   ]
  },
  {
   "cell_type": "code",
   "execution_count": 7,
   "metadata": {},
   "outputs": [
    {
     "name": "stdout",
     "output_type": "stream",
     "text": [
      "Work in urban area only\n"
     ]
    }
   ],
   "source": [
    "#5\n",
    "age = int(input(\"Pls enter your age\"))\n",
    "sex = input(\"Pls tell us ur sex, M for male and F for woman\")\n",
    "maritalStatus = input(\" Pls input Y or N for ur marital status\")\n",
    "if sex == \"F\":\n",
    "    print(\"Work only in urban area\")\n",
    "elif sex == \"M\" and 20<= age <=40:\n",
    "    print(\"You can work anywhere\")\n",
    "elif sex == \"M\" and 40<= age <= 60:\n",
    "    print(\"Work in urban area only\")\n",
    "else:\n",
    "    print(\"ERROR!!!\")"
   ]
  },
  {
   "cell_type": "code",
   "execution_count": null,
   "metadata": {},
   "outputs": [],
   "source": [
    "\n",
    "\n",
    "\n",
    "\n",
    "\n",
    "\n",
    "\n"
   ]
  }
 ],
 "metadata": {
  "kernelspec": {
   "display_name": "Python 3.9.13 32-bit",
   "language": "python",
   "name": "python3"
  },
  "language_info": {
   "codemirror_mode": {
    "name": "ipython",
    "version": 3
   },
   "file_extension": ".py",
   "mimetype": "text/x-python",
   "name": "python",
   "nbconvert_exporter": "python",
   "pygments_lexer": "ipython3",
   "version": "3.9.13"
  },
  "orig_nbformat": 4,
  "vscode": {
   "interpreter": {
    "hash": "da3600aafbba33963195a4a73fabd79dc432f3ac3e0a81166894c5c7b51fafd9"
   }
  }
 },
 "nbformat": 4,
 "nbformat_minor": 2
}
